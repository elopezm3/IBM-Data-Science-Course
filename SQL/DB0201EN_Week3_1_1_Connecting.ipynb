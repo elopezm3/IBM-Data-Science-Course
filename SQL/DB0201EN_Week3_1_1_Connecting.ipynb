{
  "cells": [
    {
      "cell_type": "markdown",
      "metadata": {
        "id": "XyJoVXLkPGvJ"
      },
      "source": [
        "<center>\n",
        "    <img src=\"https://cf-courses-data.s3.us.cloud-object-storage.appdomain.cloud/assets/logos/SN_web_lightmode.png\" width=\"300\" alt=\"cognitiveclass.ai logo\"  />\n",
        "</center>\n",
        "\n",
        "# Connect to Db2 database on Cloud using Python\n",
        "\n",
        "Estimated time needed: **15** minutes\n",
        "\n",
        "## Objectives\n",
        "\n",
        "After completing this lab you will be able to:\n",
        "\n",
        "*   Import the ibm_db Python library\n",
        "*   Enter the database connection credentials\n",
        "*   Create the database connection\n",
        "*   Close the database connection\n"
      ]
    },
    {
      "cell_type": "markdown",
      "metadata": {
        "id": "PKn59oggPGvL"
      },
      "source": [
        "**Note:** Please follow the instructions given in the first Lab of this course to Create a database service instance of Db2 on Cloud and retrieve your database Service Credentials.\n",
        "\n",
        "## Import the `ibm_db` Python library\n",
        "\n",
        "The `ibm_db` [API ](https://pypi.python.org/pypi/ibm_db/?utm_medium=Exinfluencer&utm_source=Exinfluencer&utm_content=000026UJ&utm_term=10006555&utm_id=NA-SkillsNetwork-Channel-SkillsNetworkCoursesIBMDeveloperSkillsNetworkDB0201ENSkillsNetwork22-2022-01-01) provides a variety of useful Python functions for accessing and manipulating data in an IBM® data server database, including functions for connecting to a database, preparing and issuing SQL statements, fetching rows from result sets, calling stored procedures, committing and rolling back transactions, handling errors, and retrieving metadata.\n",
        "\n",
        "We first import the ibm_db library into our Python Application\n",
        "\n",
        "Execute the following cells by clicking within it and then\n",
        "press `Shift` and `Enter` keys simultaneously\n",
        "\n",
        "The following required modules are pre-installed in the Skills Network Labs environment. However if you run this notebook commands in a different Jupyter environment (e.g. Watson Studio or Ananconda) you may need to install these libraries by removing the `#` sign before `!pip` in the code cell below.\n"
      ]
    },
    {
      "cell_type": "code",
      "execution_count": 1,
      "metadata": {
        "colab": {
          "base_uri": "https://localhost:8080/"
        },
        "id": "Lj2diwcnPGvM",
        "outputId": "7bf13e59-eda7-4516-a4a0-8919083d2548"
      },
      "outputs": [
        {
          "output_type": "stream",
          "name": "stdout",
          "text": [
            "Looking in indexes: https://pypi.org/simple, https://us-python.pkg.dev/colab-wheels/public/simple/\n",
            "Collecting ibm_db==3.1.0\n",
            "  Downloading ibm_db-3.1.0.tar.gz (797 kB)\n",
            "\u001b[2K     \u001b[90m━━━━━━━━━━━━━━━━━━━━━━━━━━━━━━━━━━━━━━\u001b[0m \u001b[32m797.3/797.3 KB\u001b[0m \u001b[31m14.5 MB/s\u001b[0m eta \u001b[36m0:00:00\u001b[0m\n",
            "\u001b[?25h  Installing build dependencies ... \u001b[?25l\u001b[?25hdone\n",
            "  Getting requirements to build wheel ... \u001b[?25l\u001b[?25hdone\n",
            "  Installing backend dependencies ... \u001b[?25l\u001b[?25hdone\n",
            "  Preparing metadata (pyproject.toml) ... \u001b[?25l\u001b[?25hdone\n",
            "Collecting ibm_db_sa==0.3.3\n",
            "  Downloading ibm_db_sa-0.3.3.tar.gz (24 kB)\n",
            "  Preparing metadata (setup.py) ... \u001b[?25l\u001b[?25hdone\n",
            "Collecting sqlalchemy>=0.7.3\n",
            "  Downloading SQLAlchemy-1.4.46-cp38-cp38-manylinux_2_5_x86_64.manylinux1_x86_64.manylinux_2_17_x86_64.manylinux2014_x86_64.whl (1.6 MB)\n",
            "\u001b[2K     \u001b[90m━━━━━━━━━━━━━━━━━━━━━━━━━━━━━━━━━━━━━━━━\u001b[0m \u001b[32m1.6/1.6 MB\u001b[0m \u001b[31m62.8 MB/s\u001b[0m eta \u001b[36m0:00:00\u001b[0m\n",
            "\u001b[?25hCollecting greenlet!=0.4.17\n",
            "  Downloading greenlet-2.0.1-cp38-cp38-manylinux_2_17_x86_64.manylinux2014_x86_64.whl (544 kB)\n",
            "\u001b[2K     \u001b[90m━━━━━━━━━━━━━━━━━━━━━━━━━━━━━━━━━━━━━━\u001b[0m \u001b[32m544.0/544.0 KB\u001b[0m \u001b[31m42.5 MB/s\u001b[0m eta \u001b[36m0:00:00\u001b[0m\n",
            "\u001b[?25hBuilding wheels for collected packages: ibm_db, ibm_db_sa\n",
            "  Building wheel for ibm_db (pyproject.toml) ... \u001b[?25l\u001b[?25hdone\n",
            "  Created wheel for ibm_db: filename=ibm_db-3.1.0-cp38-cp38-linux_x86_64.whl size=41353779 sha256=6c5b1775e9e1e29eb0a0c5859410dfb8bf1b00a57fdc87beb884d09eae8c7b56\n",
            "  Stored in directory: /root/.cache/pip/wheels/43/71/0a/3065745bc1dc4cafbdcb09e2557082609f7689b16108b670df\n",
            "  Building wheel for ibm_db_sa (setup.py) ... \u001b[?25l\u001b[?25hdone\n",
            "  Created wheel for ibm_db_sa: filename=ibm_db_sa-0.3.3-py3-none-any.whl size=27427 sha256=6240bcd3bd7dddc0f0efb99ade605c8c21a3d5a40f967b3d2837eab819b45005\n",
            "  Stored in directory: /root/.cache/pip/wheels/ca/a9/b6/4f6402aa714d6e9903b79a15fbc3b2f02bf72da989b7708c18\n",
            "Successfully built ibm_db ibm_db_sa\n",
            "Installing collected packages: ibm_db, greenlet, sqlalchemy, ibm_db_sa\n",
            "  Attempting uninstall: greenlet\n",
            "    Found existing installation: greenlet 2.0.1\n",
            "    Uninstalling greenlet-2.0.1:\n",
            "      Successfully uninstalled greenlet-2.0.1\n",
            "  Attempting uninstall: sqlalchemy\n",
            "    Found existing installation: SQLAlchemy 1.4.45\n",
            "    Uninstalling SQLAlchemy-1.4.45:\n",
            "      Successfully uninstalled SQLAlchemy-1.4.45\n",
            "Successfully installed greenlet-2.0.1 ibm_db-3.1.0 ibm_db_sa-0.3.3 sqlalchemy-1.4.46\n",
            "Found existing installation: SQLAlchemy 1.4.46\n",
            "Uninstalling SQLAlchemy-1.4.46:\n",
            "  Successfully uninstalled SQLAlchemy-1.4.46\n",
            "Looking in indexes: https://pypi.org/simple, https://us-python.pkg.dev/colab-wheels/public/simple/\n",
            "Collecting sqlalchemy==1.3.24\n",
            "  Downloading SQLAlchemy-1.3.24-cp38-cp38-manylinux2010_x86_64.whl (1.3 MB)\n",
            "\u001b[2K     \u001b[90m━━━━━━━━━━━━━━━━━━━━━━━━━━━━━━━━━━━━━━━━\u001b[0m \u001b[32m1.3/1.3 MB\u001b[0m \u001b[31m15.6 MB/s\u001b[0m eta \u001b[36m0:00:00\u001b[0m\n",
            "\u001b[?25hInstalling collected packages: sqlalchemy\n",
            "Successfully installed sqlalchemy-1.3.24\n",
            "Looking in indexes: https://pypi.org/simple, https://us-python.pkg.dev/colab-wheels/public/simple/\n",
            "Requirement already satisfied: ipython-sql in /usr/local/lib/python3.8/dist-packages (0.3.9)\n",
            "Requirement already satisfied: ipython>=1.0 in /usr/local/lib/python3.8/dist-packages (from ipython-sql) (7.9.0)\n",
            "Requirement already satisfied: six in /usr/local/lib/python3.8/dist-packages (from ipython-sql) (1.15.0)\n",
            "Requirement already satisfied: sqlalchemy>=0.6.7 in /usr/local/lib/python3.8/dist-packages (from ipython-sql) (1.3.24)\n",
            "Requirement already satisfied: ipython-genutils>=0.1.0 in /usr/local/lib/python3.8/dist-packages (from ipython-sql) (0.2.0)\n",
            "Requirement already satisfied: prettytable in /usr/local/lib/python3.8/dist-packages (from ipython-sql) (3.5.0)\n",
            "Requirement already satisfied: sqlparse in /usr/local/lib/python3.8/dist-packages (from ipython-sql) (0.4.3)\n",
            "Requirement already satisfied: traitlets>=4.2 in /usr/local/lib/python3.8/dist-packages (from ipython>=1.0->ipython-sql) (5.7.1)\n",
            "Requirement already satisfied: prompt-toolkit<2.1.0,>=2.0.0 in /usr/local/lib/python3.8/dist-packages (from ipython>=1.0->ipython-sql) (2.0.10)\n",
            "Requirement already satisfied: backcall in /usr/local/lib/python3.8/dist-packages (from ipython>=1.0->ipython-sql) (0.2.0)\n",
            "Requirement already satisfied: pexpect in /usr/local/lib/python3.8/dist-packages (from ipython>=1.0->ipython-sql) (4.8.0)\n",
            "Requirement already satisfied: decorator in /usr/local/lib/python3.8/dist-packages (from ipython>=1.0->ipython-sql) (4.4.2)\n",
            "Requirement already satisfied: setuptools>=18.5 in /usr/local/lib/python3.8/dist-packages (from ipython>=1.0->ipython-sql) (57.4.0)\n",
            "Requirement already satisfied: pickleshare in /usr/local/lib/python3.8/dist-packages (from ipython>=1.0->ipython-sql) (0.7.5)\n",
            "Requirement already satisfied: pygments in /usr/local/lib/python3.8/dist-packages (from ipython>=1.0->ipython-sql) (2.6.1)\n",
            "Collecting jedi>=0.10\n",
            "  Downloading jedi-0.18.2-py2.py3-none-any.whl (1.6 MB)\n",
            "\u001b[2K     \u001b[90m━━━━━━━━━━━━━━━━━━━━━━━━━━━━━━━━━━━━━━━━\u001b[0m \u001b[32m1.6/1.6 MB\u001b[0m \u001b[31m21.0 MB/s\u001b[0m eta \u001b[36m0:00:00\u001b[0m\n",
            "\u001b[?25hRequirement already satisfied: wcwidth in /usr/local/lib/python3.8/dist-packages (from prettytable->ipython-sql) (0.2.5)\n",
            "Requirement already satisfied: parso<0.9.0,>=0.8.0 in /usr/local/lib/python3.8/dist-packages (from jedi>=0.10->ipython>=1.0->ipython-sql) (0.8.3)\n",
            "Requirement already satisfied: ptyprocess>=0.5 in /usr/local/lib/python3.8/dist-packages (from pexpect->ipython>=1.0->ipython-sql) (0.7.0)\n",
            "Installing collected packages: jedi\n",
            "Successfully installed jedi-0.18.2\n"
          ]
        }
      ],
      "source": [
        "# These libraries are pre-installed in SN Labs. If running in another environment please uncomment lines below to install them:\n",
        "!pip install --force-reinstall ibm_db==3.1.0 ibm_db_sa==0.3.3\n",
        "# Ensure we don't load_ext with sqlalchemy>=1.4 (incompadible)\n",
        "!pip uninstall sqlalchemy==1.4 -y && pip install sqlalchemy==1.3.24\n",
        "!pip install ipython-sql"
      ]
    },
    {
      "cell_type": "code",
      "execution_count": 2,
      "metadata": {
        "id": "6PZhyFWIPGvN"
      },
      "outputs": [],
      "source": [
        "import ibm_db"
      ]
    },
    {
      "cell_type": "markdown",
      "metadata": {
        "id": "plK0QLexPGvN"
      },
      "source": [
        "When the command above completes, the `ibm_db` library is loaded in your notebook.\n",
        "\n",
        "## Identify the database connection credentials\n",
        "\n",
        "Connecting to dashDB or DB2 database requires the following information:\n",
        "\n",
        "*   Driver Name\n",
        "*   Database name\n",
        "*   Host DNS name or IP address\n",
        "*   Host port\n",
        "*   Connection protocol\n",
        "*   User ID (or username)\n",
        "*   User Password\n",
        "\n",
        "**Notice:** To obtain credentials please refer to the instructions given in the first Lab of this course\n",
        "\n",
        "Now enter your database credentials below and execute the cell with `Shift` + `Enter`\n"
      ]
    },
    {
      "cell_type": "code",
      "execution_count": 3,
      "metadata": {
        "id": "qpR4xjQqPGvO"
      },
      "outputs": [],
      "source": [
        "#Replace the placeholder values with your actual Db2 hostname, username, and password:\n",
        "dsn_hostname = \"1bbf73c5-d84a-4bb0-85b9-ab1a4348f4a4.c3n41cmd0nqnrk39u98g.databases.appdomain.cloud\" # e.g.: \"54a2f15b-5c0f-46df-8954-7e38e612c2bd.c1ogj3sd0tgtu0lqde00.databases.appdomain.cloud\"\n",
        "dsn_uid = \"xjp48609\"        # e.g. \"abc12345\"\n",
        "dsn_pwd = \"Knlba2eq19BMuZe2\"      # e.g. \"7dBZ3wWt9XN6$o0J\"\n",
        "\n",
        "dsn_driver = \"{IBM DB2 ODBC DRIVER}\"\n",
        "dsn_database = \"bludb\"            # e.g. \"BLUDB\"\n",
        "dsn_port = \"32286\"                # e.g. \"32733\" \n",
        "dsn_protocol = \"TCPIP\"            # i.e. \"TCPIP\"\n",
        "dsn_security = \"SSL\"              #i.e. \"SSL\""
      ]
    },
    {
      "cell_type": "markdown",
      "metadata": {
        "id": "5lcEvjkbPGvO"
      },
      "source": [
        "## Create the DB2 database connection\n",
        "\n",
        "Ibm_db API uses the IBM Data Server Driver for ODBC and CLI APIs to connect to IBM DB2 and Informix.\n",
        "\n",
        "Lets build the dsn connection string using the credentials you entered above\n"
      ]
    },
    {
      "cell_type": "code",
      "execution_count": 4,
      "metadata": {
        "colab": {
          "base_uri": "https://localhost:8080/"
        },
        "id": "yOBphHEyPGvP",
        "outputId": "11542b51-86bb-4a63-cd26-2eba6a824512"
      },
      "outputs": [
        {
          "output_type": "stream",
          "name": "stdout",
          "text": [
            "DRIVER={IBM DB2 ODBC DRIVER};DATABASE=bludb;HOSTNAME=1bbf73c5-d84a-4bb0-85b9-ab1a4348f4a4.c3n41cmd0nqnrk39u98g.databases.appdomain.cloud;PORT=32286;PROTOCOL=TCPIP;UID=xjp48609;PWD=Knlba2eq19BMuZe2;SECURITY=SSL;\n"
          ]
        }
      ],
      "source": [
        "#DO NOT MODIFY THIS CELL. Just RUN it with Shift + Enter\n",
        "#Create the dsn connection string\n",
        "dsn = (\n",
        "    \"DRIVER={0};\"\n",
        "    \"DATABASE={1};\"\n",
        "    \"HOSTNAME={2};\"\n",
        "    \"PORT={3};\"\n",
        "    \"PROTOCOL={4};\"\n",
        "    \"UID={5};\"\n",
        "    \"PWD={6};\"\n",
        "    \"SECURITY={7};\").format(dsn_driver, dsn_database, dsn_hostname, dsn_port, dsn_protocol, dsn_uid, dsn_pwd,dsn_security)\n",
        "\n",
        "#print the connection string to check correct values are specified\n",
        "print(dsn)"
      ]
    },
    {
      "cell_type": "markdown",
      "metadata": {
        "id": "wq5I4qHIPGvP"
      },
      "source": [
        "Now establish the connection to the database\n"
      ]
    },
    {
      "cell_type": "code",
      "execution_count": 5,
      "metadata": {
        "colab": {
          "base_uri": "https://localhost:8080/"
        },
        "id": "CF99wtw0PGvP",
        "outputId": "14108bee-64b8-4467-a467-681c793167b2"
      },
      "outputs": [
        {
          "output_type": "stream",
          "name": "stdout",
          "text": [
            "Connected to database:  bludb as user:  xjp48609 on host:  1bbf73c5-d84a-4bb0-85b9-ab1a4348f4a4.c3n41cmd0nqnrk39u98g.databases.appdomain.cloud\n"
          ]
        }
      ],
      "source": [
        "#DO NOT MODIFY THIS CELL. Just RUN it with Shift + Enter\n",
        "#Create database connection\n",
        "\n",
        "try:\n",
        "    conn = ibm_db.connect(dsn, \"\", \"\")\n",
        "    print (\"Connected to database: \", dsn_database, \"as user: \", dsn_uid, \"on host: \", dsn_hostname)\n",
        "\n",
        "except:\n",
        "    print (\"Unable to connect: \", ibm_db.conn_errormsg() )\n"
      ]
    },
    {
      "cell_type": "markdown",
      "metadata": {
        "id": "JYN_e3tzPGvQ"
      },
      "source": [
        "Congratulations if you were able to connect successfuly. Otherwise check the error and try again.\n"
      ]
    },
    {
      "cell_type": "code",
      "execution_count": 6,
      "metadata": {
        "colab": {
          "base_uri": "https://localhost:8080/"
        },
        "id": "yfG3E_TRPGvQ",
        "outputId": "fd2d5ea8-9ada-44ee-9760-c5704fc2d641"
      },
      "outputs": [
        {
          "output_type": "stream",
          "name": "stdout",
          "text": [
            "DBMS_NAME:  DB2/LINUXX8664\n",
            "DBMS_VER:   11.05.0800\n",
            "DB_NAME:    BLUDB\n"
          ]
        }
      ],
      "source": [
        "#Retrieve Metadata for the Database Server\n",
        "server = ibm_db.server_info(conn)\n",
        "\n",
        "print (\"DBMS_NAME: \", server.DBMS_NAME)\n",
        "print (\"DBMS_VER:  \", server.DBMS_VER)\n",
        "print (\"DB_NAME:   \", server.DB_NAME)"
      ]
    },
    {
      "cell_type": "code",
      "execution_count": 7,
      "metadata": {
        "colab": {
          "base_uri": "https://localhost:8080/"
        },
        "id": "0B3kTEJiPGvQ",
        "outputId": "6c32ddfc-a48c-46f1-a83a-3290e372c26f"
      },
      "outputs": [
        {
          "output_type": "stream",
          "name": "stdout",
          "text": [
            "DRIVER_NAME:           libdb2.a\n",
            "DRIVER_VER:            11.05.0600\n",
            "DATA_SOURCE_NAME:      BLUDB\n",
            "DRIVER_ODBC_VER:       03.51\n",
            "ODBC_VER:              03.01.0000\n",
            "ODBC_SQL_CONFORMANCE:  EXTENDED\n",
            "APPL_CODEPAGE:         1208\n",
            "CONN_CODEPAGE:         1208\n"
          ]
        }
      ],
      "source": [
        "#Retrieve Metadata for the Database Client / Driver\n",
        "client = ibm_db.client_info(conn)\n",
        "\n",
        "print (\"DRIVER_NAME:          \", client.DRIVER_NAME) \n",
        "print (\"DRIVER_VER:           \", client.DRIVER_VER)\n",
        "print (\"DATA_SOURCE_NAME:     \", client.DATA_SOURCE_NAME)\n",
        "print (\"DRIVER_ODBC_VER:      \", client.DRIVER_ODBC_VER)\n",
        "print (\"ODBC_VER:             \", client.ODBC_VER)\n",
        "print (\"ODBC_SQL_CONFORMANCE: \", client.ODBC_SQL_CONFORMANCE)\n",
        "print (\"APPL_CODEPAGE:        \", client.APPL_CODEPAGE)\n",
        "print (\"CONN_CODEPAGE:        \", client.CONN_CODEPAGE)"
      ]
    },
    {
      "cell_type": "markdown",
      "metadata": {
        "id": "9wU_8bNUPGvR"
      },
      "source": [
        "## Close the Connection\n",
        "\n",
        "We free all resources by closing the connection. Remember that it is always important to close connections so that we can avoid unused connections taking up resources.\n"
      ]
    },
    {
      "cell_type": "code",
      "execution_count": 8,
      "metadata": {
        "colab": {
          "base_uri": "https://localhost:8080/"
        },
        "id": "HniDPVChPGvR",
        "outputId": "eaf70e8c-9b32-4814-bfe1-71b01775be39"
      },
      "outputs": [
        {
          "output_type": "execute_result",
          "data": {
            "text/plain": [
              "True"
            ]
          },
          "metadata": {},
          "execution_count": 8
        }
      ],
      "source": [
        "ibm_db.close(conn)"
      ]
    },
    {
      "cell_type": "markdown",
      "metadata": {
        "id": "KafFzbmFPGvR"
      },
      "source": [
        "## Summary\n",
        "\n",
        "In this tutorial you established a connection to a DB2 database on Cloud database from a Python notebook using ibm_db API.\n"
      ]
    },
    {
      "cell_type": "markdown",
      "metadata": {
        "id": "qS9-arT0PGvR"
      },
      "source": [
        "## Author\n",
        "\n",
        "<a href=\"https://www.linkedin.com/in/ravahuja?utm_medium=Exinfluencer&utm_source=Exinfluencer&utm_content=000026UJ&utm_term=10006555&utm_id=NA-SkillsNetwork-Channel-SkillsNetworkCoursesIBMDeveloperSkillsNetworkDB0201ENSkillsNetwork22-2022-01-01\">Rav Ahuja</a>\n",
        "\n",
        "## Change Log\n",
        "\n",
        "| Date (YYYY-MM-DD) | Version | Changed By | Change Description                 |\n",
        "| ----------------- | ------- | ---------- | ---------------------------------- |\n",
        "| 2021-11-17        | 2.2     | Lakshmi    | Updated library                    |\n",
        "| 2021-07-09        | 2.1     | Malika     | Updated the connection string      |\n",
        "| 2020-08-28        | 2.0     | Lavanya    | Moved lab to course repo in GitLab |\n",
        "\n",
        "<hr>\n",
        "\n",
        "## <h3 align=\"center\"> © IBM Corporation 2020. All rights reserved. <h3/>\n"
      ]
    }
  ],
  "metadata": {
    "kernelspec": {
      "display_name": "Python 3 (ipykernel)",
      "language": "python",
      "name": "python3"
    },
    "language_info": {
      "codemirror_mode": {
        "name": "ipython",
        "version": 3
      },
      "file_extension": ".py",
      "mimetype": "text/x-python",
      "name": "python",
      "nbconvert_exporter": "python",
      "pygments_lexer": "ipython3",
      "version": "3.9.7"
    },
    "colab": {
      "provenance": []
    }
  },
  "nbformat": 4,
  "nbformat_minor": 0
}
