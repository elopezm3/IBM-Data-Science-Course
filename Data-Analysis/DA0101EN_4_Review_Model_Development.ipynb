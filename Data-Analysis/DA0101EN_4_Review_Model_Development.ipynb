{
  "cells": [
    {
      "cell_type": "markdown",
      "metadata": {
        "id": "3_1au4seiNbv"
      },
      "source": [
        "<p style=\"text-align:center\">\n",
        "    <a href=\"https://skills.network/?utm_medium=Exinfluencer&utm_source=Exinfluencer&utm_content=000026UJ&utm_term=10006555&utm_id=NA-SkillsNetwork-Channel-SkillsNetworkCoursesIBMDeveloperSkillsNetworkDA0101ENSkillsNetwork20235326-2022-01-01\" target=\"_blank\">\n",
        "    <img src=\"https://cf-courses-data.s3.us.cloud-object-storage.appdomain.cloud/assets/logos/SN_web_lightmode.png\" width=\"200\" alt=\"Skills Network Logo\"  />\n",
        "    </a>\n",
        "</p>\n",
        "\n",
        "# Model Development\n",
        "\n",
        "Estimated time needed: **30** minutes\n",
        "\n",
        "## Objectives\n",
        "\n",
        "After completing this lab you will be able to:\n",
        "\n",
        "*   Develop prediction models\n"
      ]
    },
    {
      "cell_type": "markdown",
      "metadata": {
        "id": "sPKyVP1qiNbx"
      },
      "source": [
        "<p>In this section, we will develop several models that will predict the price of the car using the variables or features. This is just an estimate but should give us an objective idea of how much the car should cost.</p>\n"
      ]
    },
    {
      "cell_type": "markdown",
      "metadata": {
        "id": "S55268RxiNbx"
      },
      "source": [
        "Some questions we want to ask in this module\n",
        "\n",
        "<ul>\n",
        "    <li>Do I know if the dealer is offering fair value for my trade-in?</li>\n",
        "    <li>Do I know if I put a fair value on my car?</li>\n",
        "</ul>\n",
        "<p>In data analytics, we often use <b>Model Development</b> to help us predict future observations from the data we have.</p>\n",
        "\n",
        "<p>A model will help us understand the exact relationship between different variables and how these variables are used to predict the result.</p>\n"
      ]
    },
    {
      "cell_type": "markdown",
      "metadata": {
        "id": "mJBaz1mniNbx"
      },
      "source": [
        "<h4>Setup</h4>\n"
      ]
    },
    {
      "cell_type": "markdown",
      "metadata": {
        "id": "mxOJCUI_iNby"
      },
      "source": [
        "Import libraries:\n"
      ]
    },
    {
      "cell_type": "code",
      "execution_count": 1,
      "metadata": {
        "id": "DB4ma0W5iNby"
      },
      "outputs": [],
      "source": [
        "#install specific version of libraries used in lab\n",
        "#! mamba install pandas==1.3.3-y\n",
        "#! mamba install numpy=1.21.2-y\n",
        "#! mamba install sklearn=0.20.1-y"
      ]
    },
    {
      "cell_type": "code",
      "execution_count": 2,
      "metadata": {
        "id": "ScP13MIOiNby"
      },
      "outputs": [],
      "source": [
        "import pandas as pd\n",
        "import numpy as np\n",
        "import matplotlib.pyplot as plt"
      ]
    },
    {
      "cell_type": "markdown",
      "metadata": {
        "id": "Q93ODVq5iNbz"
      },
      "source": [
        "Load the data and store it in dataframe `df`:\n"
      ]
    },
    {
      "cell_type": "markdown",
      "metadata": {
        "id": "Ci2yWTV_iNbz"
      },
      "source": [
        "This dataset was hosted on IBM Cloud object. Click <a href=\"https://cocl.us/DA101EN_object_storage?utm_medium=Exinfluencer&utm_source=Exinfluencer&utm_content=000026UJ&utm_term=10006555&utm_id=NA-SkillsNetwork-Channel-SkillsNetworkCoursesIBMDeveloperSkillsNetworkDA0101ENSkillsNetwork20235326-2022-01-01\">HERE</a> for free storage.\n"
      ]
    },
    {
      "cell_type": "code",
      "execution_count": 3,
      "metadata": {
        "colab": {
          "base_uri": "https://localhost:8080/",
          "height": 349
        },
        "id": "BmfwZ0ixiNbz",
        "outputId": "c502eaf7-f0e0-4b06-f1b4-a5b0425631dc"
      },
      "outputs": [
        {
          "output_type": "execute_result",
          "data": {
            "text/plain": [
              "   symboling  normalized-losses         make aspiration num-of-doors  \\\n",
              "0          3                122  alfa-romero        std          two   \n",
              "1          3                122  alfa-romero        std          two   \n",
              "2          1                122  alfa-romero        std          two   \n",
              "3          2                164         audi        std         four   \n",
              "4          2                164         audi        std         four   \n",
              "\n",
              "    body-style drive-wheels engine-location  wheel-base    length  ...  \\\n",
              "0  convertible          rwd           front        88.6  0.811148  ...   \n",
              "1  convertible          rwd           front        88.6  0.811148  ...   \n",
              "2    hatchback          rwd           front        94.5  0.822681  ...   \n",
              "3        sedan          fwd           front        99.8  0.848630  ...   \n",
              "4        sedan          4wd           front        99.4  0.848630  ...   \n",
              "\n",
              "   compression-ratio  horsepower  peak-rpm city-mpg highway-mpg    price  \\\n",
              "0                9.0       111.0    5000.0       21          27  13495.0   \n",
              "1                9.0       111.0    5000.0       21          27  16500.0   \n",
              "2                9.0       154.0    5000.0       19          26  16500.0   \n",
              "3               10.0       102.0    5500.0       24          30  13950.0   \n",
              "4                8.0       115.0    5500.0       18          22  17450.0   \n",
              "\n",
              "  city-L/100km  horsepower-binned  diesel  gas  \n",
              "0    11.190476             Medium       0    1  \n",
              "1    11.190476             Medium       0    1  \n",
              "2    12.368421             Medium       0    1  \n",
              "3     9.791667             Medium       0    1  \n",
              "4    13.055556             Medium       0    1  \n",
              "\n",
              "[5 rows x 29 columns]"
            ],
            "text/html": [
              "\n",
              "  <div id=\"df-771a235f-b1c3-4457-9f91-045b27617b6d\">\n",
              "    <div class=\"colab-df-container\">\n",
              "      <div>\n",
              "<style scoped>\n",
              "    .dataframe tbody tr th:only-of-type {\n",
              "        vertical-align: middle;\n",
              "    }\n",
              "\n",
              "    .dataframe tbody tr th {\n",
              "        vertical-align: top;\n",
              "    }\n",
              "\n",
              "    .dataframe thead th {\n",
              "        text-align: right;\n",
              "    }\n",
              "</style>\n",
              "<table border=\"1\" class=\"dataframe\">\n",
              "  <thead>\n",
              "    <tr style=\"text-align: right;\">\n",
              "      <th></th>\n",
              "      <th>symboling</th>\n",
              "      <th>normalized-losses</th>\n",
              "      <th>make</th>\n",
              "      <th>aspiration</th>\n",
              "      <th>num-of-doors</th>\n",
              "      <th>body-style</th>\n",
              "      <th>drive-wheels</th>\n",
              "      <th>engine-location</th>\n",
              "      <th>wheel-base</th>\n",
              "      <th>length</th>\n",
              "      <th>...</th>\n",
              "      <th>compression-ratio</th>\n",
              "      <th>horsepower</th>\n",
              "      <th>peak-rpm</th>\n",
              "      <th>city-mpg</th>\n",
              "      <th>highway-mpg</th>\n",
              "      <th>price</th>\n",
              "      <th>city-L/100km</th>\n",
              "      <th>horsepower-binned</th>\n",
              "      <th>diesel</th>\n",
              "      <th>gas</th>\n",
              "    </tr>\n",
              "  </thead>\n",
              "  <tbody>\n",
              "    <tr>\n",
              "      <th>0</th>\n",
              "      <td>3</td>\n",
              "      <td>122</td>\n",
              "      <td>alfa-romero</td>\n",
              "      <td>std</td>\n",
              "      <td>two</td>\n",
              "      <td>convertible</td>\n",
              "      <td>rwd</td>\n",
              "      <td>front</td>\n",
              "      <td>88.6</td>\n",
              "      <td>0.811148</td>\n",
              "      <td>...</td>\n",
              "      <td>9.0</td>\n",
              "      <td>111.0</td>\n",
              "      <td>5000.0</td>\n",
              "      <td>21</td>\n",
              "      <td>27</td>\n",
              "      <td>13495.0</td>\n",
              "      <td>11.190476</td>\n",
              "      <td>Medium</td>\n",
              "      <td>0</td>\n",
              "      <td>1</td>\n",
              "    </tr>\n",
              "    <tr>\n",
              "      <th>1</th>\n",
              "      <td>3</td>\n",
              "      <td>122</td>\n",
              "      <td>alfa-romero</td>\n",
              "      <td>std</td>\n",
              "      <td>two</td>\n",
              "      <td>convertible</td>\n",
              "      <td>rwd</td>\n",
              "      <td>front</td>\n",
              "      <td>88.6</td>\n",
              "      <td>0.811148</td>\n",
              "      <td>...</td>\n",
              "      <td>9.0</td>\n",
              "      <td>111.0</td>\n",
              "      <td>5000.0</td>\n",
              "      <td>21</td>\n",
              "      <td>27</td>\n",
              "      <td>16500.0</td>\n",
              "      <td>11.190476</td>\n",
              "      <td>Medium</td>\n",
              "      <td>0</td>\n",
              "      <td>1</td>\n",
              "    </tr>\n",
              "    <tr>\n",
              "      <th>2</th>\n",
              "      <td>1</td>\n",
              "      <td>122</td>\n",
              "      <td>alfa-romero</td>\n",
              "      <td>std</td>\n",
              "      <td>two</td>\n",
              "      <td>hatchback</td>\n",
              "      <td>rwd</td>\n",
              "      <td>front</td>\n",
              "      <td>94.5</td>\n",
              "      <td>0.822681</td>\n",
              "      <td>...</td>\n",
              "      <td>9.0</td>\n",
              "      <td>154.0</td>\n",
              "      <td>5000.0</td>\n",
              "      <td>19</td>\n",
              "      <td>26</td>\n",
              "      <td>16500.0</td>\n",
              "      <td>12.368421</td>\n",
              "      <td>Medium</td>\n",
              "      <td>0</td>\n",
              "      <td>1</td>\n",
              "    </tr>\n",
              "    <tr>\n",
              "      <th>3</th>\n",
              "      <td>2</td>\n",
              "      <td>164</td>\n",
              "      <td>audi</td>\n",
              "      <td>std</td>\n",
              "      <td>four</td>\n",
              "      <td>sedan</td>\n",
              "      <td>fwd</td>\n",
              "      <td>front</td>\n",
              "      <td>99.8</td>\n",
              "      <td>0.848630</td>\n",
              "      <td>...</td>\n",
              "      <td>10.0</td>\n",
              "      <td>102.0</td>\n",
              "      <td>5500.0</td>\n",
              "      <td>24</td>\n",
              "      <td>30</td>\n",
              "      <td>13950.0</td>\n",
              "      <td>9.791667</td>\n",
              "      <td>Medium</td>\n",
              "      <td>0</td>\n",
              "      <td>1</td>\n",
              "    </tr>\n",
              "    <tr>\n",
              "      <th>4</th>\n",
              "      <td>2</td>\n",
              "      <td>164</td>\n",
              "      <td>audi</td>\n",
              "      <td>std</td>\n",
              "      <td>four</td>\n",
              "      <td>sedan</td>\n",
              "      <td>4wd</td>\n",
              "      <td>front</td>\n",
              "      <td>99.4</td>\n",
              "      <td>0.848630</td>\n",
              "      <td>...</td>\n",
              "      <td>8.0</td>\n",
              "      <td>115.0</td>\n",
              "      <td>5500.0</td>\n",
              "      <td>18</td>\n",
              "      <td>22</td>\n",
              "      <td>17450.0</td>\n",
              "      <td>13.055556</td>\n",
              "      <td>Medium</td>\n",
              "      <td>0</td>\n",
              "      <td>1</td>\n",
              "    </tr>\n",
              "  </tbody>\n",
              "</table>\n",
              "<p>5 rows × 29 columns</p>\n",
              "</div>\n",
              "      <button class=\"colab-df-convert\" onclick=\"convertToInteractive('df-771a235f-b1c3-4457-9f91-045b27617b6d')\"\n",
              "              title=\"Convert this dataframe to an interactive table.\"\n",
              "              style=\"display:none;\">\n",
              "        \n",
              "  <svg xmlns=\"http://www.w3.org/2000/svg\" height=\"24px\"viewBox=\"0 0 24 24\"\n",
              "       width=\"24px\">\n",
              "    <path d=\"M0 0h24v24H0V0z\" fill=\"none\"/>\n",
              "    <path d=\"M18.56 5.44l.94 2.06.94-2.06 2.06-.94-2.06-.94-.94-2.06-.94 2.06-2.06.94zm-11 1L8.5 8.5l.94-2.06 2.06-.94-2.06-.94L8.5 2.5l-.94 2.06-2.06.94zm10 10l.94 2.06.94-2.06 2.06-.94-2.06-.94-.94-2.06-.94 2.06-2.06.94z\"/><path d=\"M17.41 7.96l-1.37-1.37c-.4-.4-.92-.59-1.43-.59-.52 0-1.04.2-1.43.59L10.3 9.45l-7.72 7.72c-.78.78-.78 2.05 0 2.83L4 21.41c.39.39.9.59 1.41.59.51 0 1.02-.2 1.41-.59l7.78-7.78 2.81-2.81c.8-.78.8-2.07 0-2.86zM5.41 20L4 18.59l7.72-7.72 1.47 1.35L5.41 20z\"/>\n",
              "  </svg>\n",
              "      </button>\n",
              "      \n",
              "  <style>\n",
              "    .colab-df-container {\n",
              "      display:flex;\n",
              "      flex-wrap:wrap;\n",
              "      gap: 12px;\n",
              "    }\n",
              "\n",
              "    .colab-df-convert {\n",
              "      background-color: #E8F0FE;\n",
              "      border: none;\n",
              "      border-radius: 50%;\n",
              "      cursor: pointer;\n",
              "      display: none;\n",
              "      fill: #1967D2;\n",
              "      height: 32px;\n",
              "      padding: 0 0 0 0;\n",
              "      width: 32px;\n",
              "    }\n",
              "\n",
              "    .colab-df-convert:hover {\n",
              "      background-color: #E2EBFA;\n",
              "      box-shadow: 0px 1px 2px rgba(60, 64, 67, 0.3), 0px 1px 3px 1px rgba(60, 64, 67, 0.15);\n",
              "      fill: #174EA6;\n",
              "    }\n",
              "\n",
              "    [theme=dark] .colab-df-convert {\n",
              "      background-color: #3B4455;\n",
              "      fill: #D2E3FC;\n",
              "    }\n",
              "\n",
              "    [theme=dark] .colab-df-convert:hover {\n",
              "      background-color: #434B5C;\n",
              "      box-shadow: 0px 1px 3px 1px rgba(0, 0, 0, 0.15);\n",
              "      filter: drop-shadow(0px 1px 2px rgba(0, 0, 0, 0.3));\n",
              "      fill: #FFFFFF;\n",
              "    }\n",
              "  </style>\n",
              "\n",
              "      <script>\n",
              "        const buttonEl =\n",
              "          document.querySelector('#df-771a235f-b1c3-4457-9f91-045b27617b6d button.colab-df-convert');\n",
              "        buttonEl.style.display =\n",
              "          google.colab.kernel.accessAllowed ? 'block' : 'none';\n",
              "\n",
              "        async function convertToInteractive(key) {\n",
              "          const element = document.querySelector('#df-771a235f-b1c3-4457-9f91-045b27617b6d');\n",
              "          const dataTable =\n",
              "            await google.colab.kernel.invokeFunction('convertToInteractive',\n",
              "                                                     [key], {});\n",
              "          if (!dataTable) return;\n",
              "\n",
              "          const docLinkHtml = 'Like what you see? Visit the ' +\n",
              "            '<a target=\"_blank\" href=https://colab.research.google.com/notebooks/data_table.ipynb>data table notebook</a>'\n",
              "            + ' to learn more about interactive tables.';\n",
              "          element.innerHTML = '';\n",
              "          dataTable['output_type'] = 'display_data';\n",
              "          await google.colab.output.renderOutput(dataTable, element);\n",
              "          const docLink = document.createElement('div');\n",
              "          docLink.innerHTML = docLinkHtml;\n",
              "          element.appendChild(docLink);\n",
              "        }\n",
              "      </script>\n",
              "    </div>\n",
              "  </div>\n",
              "  "
            ]
          },
          "metadata": {},
          "execution_count": 3
        }
      ],
      "source": [
        "# path of data \n",
        "path = 'https://cf-courses-data.s3.us.cloud-object-storage.appdomain.cloud/IBMDeveloperSkillsNetwork-DA0101EN-SkillsNetwork/labs/Data%20files/automobileEDA.csv'\n",
        "df = pd.read_csv(path)\n",
        "df.head()"
      ]
    },
    {
      "cell_type": "markdown",
      "metadata": {
        "id": "QyJcYN7wiNbz"
      },
      "source": [
        "<h2>1. Linear Regression and Multiple Linear Regression</h2>\n"
      ]
    },
    {
      "cell_type": "markdown",
      "metadata": {
        "id": "or48NK7_iNbz"
      },
      "source": [
        "<h4>Linear Regression</h4>\n"
      ]
    },
    {
      "cell_type": "markdown",
      "metadata": {
        "id": "nrEKuXr9iNb0"
      },
      "source": [
        "<p>One example of a Data  Model that we will be using is:</p>\n",
        "<b>Simple Linear Regression</b>\n",
        "\n",
        "<br>\n",
        "<p>Simple Linear Regression is a method to help us understand the relationship between two variables:</p>\n",
        "<ul>\n",
        "    <li>The predictor/independent variable (X)</li>\n",
        "    <li>The response/dependent variable (that we want to predict)(Y)</li>\n",
        "</ul>\n",
        "\n",
        "<p>The result of Linear Regression is a <b>linear function</b> that predicts the response (dependent) variable as a function of the predictor (independent) variable.</p>\n"
      ]
    },
    {
      "cell_type": "markdown",
      "metadata": {
        "id": "dUdVQjl-iNb0"
      },
      "source": [
        "$$\n",
        "Y: Response \\ Variable\\\\\\\\\n",
        "X: Predictor \\ Variables\n",
        "$$\n"
      ]
    },
    {
      "cell_type": "markdown",
      "metadata": {
        "id": "Jtgx8jzviNb0"
      },
      "source": [
        "<b>Linear Function</b>\n",
        "$$\n",
        "Yhat = a + b  X\n",
        "$$\n"
      ]
    },
    {
      "cell_type": "markdown",
      "metadata": {
        "id": "8hobwoSsiNb0"
      },
      "source": [
        "<ul>\n",
        "    <li>a refers to the <b>intercept</b> of the regression line, in other words: the value of Y when X is 0</li>\n",
        "    <li>b refers to the <b>slope</b> of the regression line, in other words: the value with which Y changes when X increases by 1 unit</li>\n",
        "</ul>\n"
      ]
    },
    {
      "cell_type": "markdown",
      "metadata": {
        "id": "85WcNJ7FiNb0"
      },
      "source": [
        "<h4>Let's load the modules for linear regression:</h4>\n"
      ]
    },
    {
      "cell_type": "code",
      "execution_count": 4,
      "metadata": {
        "id": "6vsLOMVViNb0"
      },
      "outputs": [],
      "source": [
        "from sklearn.linear_model import LinearRegression"
      ]
    },
    {
      "cell_type": "markdown",
      "metadata": {
        "id": "dTBycfHJiNb1"
      },
      "source": [
        "<h4>Create the linear regression object:</h4>\n"
      ]
    },
    {
      "cell_type": "code",
      "execution_count": 5,
      "metadata": {
        "colab": {
          "base_uri": "https://localhost:8080/"
        },
        "id": "hE4jMFgOiNb1",
        "outputId": "9b135b6a-5403-48f8-c15d-3c78563b57c6"
      },
      "outputs": [
        {
          "output_type": "execute_result",
          "data": {
            "text/plain": [
              "LinearRegression()"
            ]
          },
          "metadata": {},
          "execution_count": 5
        }
      ],
      "source": [
        "lm = LinearRegression()\n",
        "lm"
      ]
    },
    {
      "cell_type": "markdown",
      "metadata": {
        "id": "Fztc6rZSiNb1"
      },
      "source": [
        "<h4>How could \"highway-mpg\" help us predict car price?</h4>\n"
      ]
    },
    {
      "cell_type": "markdown",
      "metadata": {
        "id": "zKrvuBKViNb1"
      },
      "source": [
        "For this example, we want to look at how highway-mpg can help us predict car price.\n",
        "Using simple linear regression, we will create a linear function with \"highway-mpg\" as the predictor variable and the \"price\" as the response variable.\n"
      ]
    },
    {
      "cell_type": "code",
      "execution_count": 6,
      "metadata": {
        "id": "0ippbOY4iNb1"
      },
      "outputs": [],
      "source": [
        "X = df[['highway-mpg']]\n",
        "Y = df['price']"
      ]
    },
    {
      "cell_type": "markdown",
      "metadata": {
        "id": "Nnq9xr56iNb1"
      },
      "source": [
        "Fit the linear model using highway-mpg:\n"
      ]
    },
    {
      "cell_type": "code",
      "execution_count": 7,
      "metadata": {
        "colab": {
          "base_uri": "https://localhost:8080/"
        },
        "id": "8weLBkajiNb1",
        "outputId": "36f36599-3fd1-4e6c-fb5a-b2ba3d5f64cf"
      },
      "outputs": [
        {
          "output_type": "execute_result",
          "data": {
            "text/plain": [
              "LinearRegression()"
            ]
          },
          "metadata": {},
          "execution_count": 7
        }
      ],
      "source": [
        "lm.fit(X,Y)"
      ]
    },
    {
      "cell_type": "markdown",
      "metadata": {
        "id": "PDDE6fPciNb2"
      },
      "source": [
        "We can output a prediction:\n"
      ]
    },
    {
      "cell_type": "code",
      "execution_count": 8,
      "metadata": {
        "colab": {
          "base_uri": "https://localhost:8080/"
        },
        "id": "HmBbaD8DiNb2",
        "outputId": "f6c89c65-a8ba-42ad-ac8d-8ce6315fd3df"
      },
      "outputs": [
        {
          "output_type": "execute_result",
          "data": {
            "text/plain": [
              "array([16236.50464347, 16236.50464347, 17058.23802179, 13771.3045085 ,\n",
              "       20345.17153508])"
            ]
          },
          "metadata": {},
          "execution_count": 8
        }
      ],
      "source": [
        "Yhat=lm.predict(X)\n",
        "Yhat[0:5]   "
      ]
    },
    {
      "cell_type": "markdown",
      "metadata": {
        "id": "4g5JE_qMiNb2"
      },
      "source": [
        "<h4>What is the value of the intercept (a)?</h4>\n"
      ]
    },
    {
      "cell_type": "code",
      "execution_count": 9,
      "metadata": {
        "colab": {
          "base_uri": "https://localhost:8080/"
        },
        "id": "pR_PhgHziNb2",
        "outputId": "e30e8570-eb55-4f06-e4cc-79ac148c3676"
      },
      "outputs": [
        {
          "output_type": "execute_result",
          "data": {
            "text/plain": [
              "38423.3058581574"
            ]
          },
          "metadata": {},
          "execution_count": 9
        }
      ],
      "source": [
        "lm.intercept_"
      ]
    },
    {
      "cell_type": "markdown",
      "metadata": {
        "id": "wfovJPyhiNb2"
      },
      "source": [
        "<h4>What is the value of the slope (b)?</h4>\n"
      ]
    },
    {
      "cell_type": "code",
      "execution_count": 10,
      "metadata": {
        "scrolled": true,
        "colab": {
          "base_uri": "https://localhost:8080/"
        },
        "id": "JK8CL2pviNb2",
        "outputId": "f522dec3-f8e3-46d0-9b47-1a6c9fd62576"
      },
      "outputs": [
        {
          "output_type": "execute_result",
          "data": {
            "text/plain": [
              "array([-821.73337832])"
            ]
          },
          "metadata": {},
          "execution_count": 10
        }
      ],
      "source": [
        "lm.coef_"
      ]
    },
    {
      "cell_type": "markdown",
      "metadata": {
        "id": "tiKmGO4siNb2"
      },
      "source": [
        "<h3>What is the final estimated linear model we get?</h3>\n"
      ]
    },
    {
      "cell_type": "markdown",
      "metadata": {
        "id": "01HukiagiNb2"
      },
      "source": [
        "As we saw above, we should get a final linear model with the structure:\n"
      ]
    },
    {
      "cell_type": "markdown",
      "metadata": {
        "id": "Z_0oWc8DiNb3"
      },
      "source": [
        "$$\n",
        "Yhat = a + b  X\n",
        "$$\n"
      ]
    },
    {
      "cell_type": "markdown",
      "metadata": {
        "id": "0dueZ2H6iNb3"
      },
      "source": [
        "Plugging in the actual values we get:\n"
      ]
    },
    {
      "cell_type": "markdown",
      "metadata": {
        "id": "uzpxeLnRiNb3"
      },
      "source": [
        "<b>Price</b> = 38423.31 - 821.73 x <b>highway-mpg</b>\n"
      ]
    },
    {
      "cell_type": "markdown",
      "metadata": {
        "id": "vN15UAOFiNb3"
      },
      "source": [
        "<div class=\"alert alert-danger alertdanger\" style=\"margin-top: 20px\">\n",
        "<h1>Question #1 a): </h1>\n",
        "\n",
        "<b>Create a linear regression object called \"lm1\".</b>\n",
        "\n",
        "</div>\n"
      ]
    },
    {
      "cell_type": "code",
      "execution_count": 11,
      "metadata": {
        "colab": {
          "base_uri": "https://localhost:8080/"
        },
        "id": "bdX73t6JiNb3",
        "outputId": "51d129d0-3fe8-46db-c795-014a8ae12651"
      },
      "outputs": [
        {
          "output_type": "execute_result",
          "data": {
            "text/plain": [
              "LinearRegression()"
            ]
          },
          "metadata": {},
          "execution_count": 11
        }
      ],
      "source": [
        "# Write your code below and press Shift+Enter to execute \n",
        "lm1 = LinearRegression()\n",
        "lm1"
      ]
    },
    {
      "cell_type": "markdown",
      "metadata": {
        "id": "O6ay5liWiNb3"
      },
      "source": [
        "<details><summary>Click here for the solution</summary>\n",
        "\n",
        "```python\n",
        "lm1 = LinearRegression()\n",
        "lm1\n",
        "```\n",
        "\n",
        "</details>\n"
      ]
    },
    {
      "cell_type": "markdown",
      "metadata": {
        "id": "la7lGJ-iiNb4"
      },
      "source": [
        "<div class=\"alert alert-danger alertdanger\" style=\"margin-top: 20px\">\n",
        "<h1> Question #1 b): </h1>\n",
        "\n",
        "<b>Train the model using \"engine-size\" as the independent variable and \"price\" as the dependent variable?</b>\n",
        "\n",
        "</div>\n"
      ]
    },
    {
      "cell_type": "code",
      "execution_count": 12,
      "metadata": {
        "colab": {
          "base_uri": "https://localhost:8080/"
        },
        "id": "5JntKoBbiNb4",
        "outputId": "23fef6d7-bddc-4d45-8ecc-8125292ae074"
      },
      "outputs": [
        {
          "output_type": "execute_result",
          "data": {
            "text/plain": [
              "LinearRegression()"
            ]
          },
          "metadata": {},
          "execution_count": 12
        }
      ],
      "source": [
        "# Write your code below and press Shift+Enter to execute \n",
        "lm1.fit(df[['engine-size']], df[['price']])\n",
        "lm1"
      ]
    },
    {
      "cell_type": "markdown",
      "metadata": {
        "id": "j_ugHmxViNb4"
      },
      "source": [
        "<details><summary>Click here for the solution</summary>\n",
        "\n",
        "```python\n",
        "lm1.fit(df[['engine-size']], df[['price']])\n",
        "lm1\n",
        "```\n",
        "\n",
        "</details>\n"
      ]
    },
    {
      "cell_type": "markdown",
      "metadata": {
        "id": "nRAKiJOuiNb4"
      },
      "source": [
        "<div class=\"alert alert-danger alertdanger\" style=\"margin-top: 20px\">\n",
        "<h1>Question #1 c):</h1>\n",
        "\n",
        "<b>Find the slope and intercept of the model.</b>\n",
        "\n",
        "</div>\n"
      ]
    },
    {
      "cell_type": "markdown",
      "metadata": {
        "id": "blPerfR8iNb4"
      },
      "source": [
        "<h4>Slope</h4>\n"
      ]
    },
    {
      "cell_type": "code",
      "execution_count": 13,
      "metadata": {
        "colab": {
          "base_uri": "https://localhost:8080/"
        },
        "id": "NWyVpPrxiNb4",
        "outputId": "6a9650f7-a0eb-462c-bd20-8f3e8fa07b35"
      },
      "outputs": [
        {
          "output_type": "execute_result",
          "data": {
            "text/plain": [
              "array([-821.73337832])"
            ]
          },
          "metadata": {},
          "execution_count": 13
        }
      ],
      "source": [
        "# Write your code below and press Shift+Enter to execute \n",
        "lm.coef_"
      ]
    },
    {
      "cell_type": "markdown",
      "metadata": {
        "id": "m4Ykq2jMiNb4"
      },
      "source": [
        "<h4>Intercept</h4>\n"
      ]
    },
    {
      "cell_type": "code",
      "execution_count": 15,
      "metadata": {
        "colab": {
          "base_uri": "https://localhost:8080/"
        },
        "id": "FI5EIht_iNb4",
        "outputId": "532b9387-6aca-412a-e81a-9dfae5cb61f8"
      },
      "outputs": [
        {
          "output_type": "execute_result",
          "data": {
            "text/plain": [
              "38423.3058581574"
            ]
          },
          "metadata": {},
          "execution_count": 15
        }
      ],
      "source": [
        "# Write your code below and press Shift+Enter to execute \n",
        "lm.intercept_"
      ]
    },
    {
      "cell_type": "markdown",
      "metadata": {
        "id": "O4t2vJxQiNb5"
      },
      "source": [
        "<details><summary>Click here for the solution</summary>\n",
        "\n",
        "```python\n",
        "# Slope \n",
        "lm1.coef_\n",
        "\n",
        "# Intercept\n",
        "lm1.intercept_\n",
        "```\n",
        "\n",
        "</details>\n"
      ]
    },
    {
      "cell_type": "markdown",
      "metadata": {
        "id": "0UQUT98RiNb5"
      },
      "source": [
        "<div class=\"alert alert-danger alertdanger\" style=\"margin-top: 20px\">\n",
        "<h1>Question #1 d): </h1>\n",
        "\n",
        "<b>What is the equation of the predicted line? You can use x and yhat or \"engine-size\" or \"price\".</b>\n",
        "\n",
        "</div>\n"
      ]
    },
    {
      "cell_type": "code",
      "execution_count": null,
      "metadata": {
        "id": "7_XFHsGGiNb5"
      },
      "outputs": [],
      "source": [
        "# Write your code below and press Shift+Enter to execute \n",
        "# price = -821.73(engine_size) + 38423.31"
      ]
    },
    {
      "cell_type": "markdown",
      "metadata": {
        "id": "EMX8igfmiNb5"
      },
      "source": [
        "<details><summary>Click here for the solution</summary>\n",
        "\n",
        "```python\n",
        "# using X and Y  \n",
        "Yhat=-7963.34 + 166.86*X\n",
        "\n",
        "Price=-7963.34 + 166.86*engine-size\n",
        "\n",
        "```\n",
        "\n",
        "</details>\n"
      ]
    },
    {
      "cell_type": "markdown",
      "metadata": {
        "id": "asJZRPJ1iNb5"
      },
      "source": [
        "<h4>Multiple Linear Regression</h4>\n"
      ]
    },
    {
      "cell_type": "markdown",
      "metadata": {
        "id": "5W17CJFqiNb6"
      },
      "source": [
        "<p>What if we want to predict car price using more than one variable?</p>\n",
        "\n",
        "<p>If we want to use more variables in our model to predict car price, we can use <b>Multiple Linear Regression</b>.\n",
        "Multiple Linear Regression is very similar to Simple Linear Regression, but this method is used to explain the relationship between one continuous response (dependent) variable and <b>two or more</b> predictor (independent) variables.\n",
        "Most of the real-world regression models involve multiple predictors. We will illustrate the structure by using four predictor variables, but these results can generalize to any integer:</p>\n"
      ]
    },
    {
      "cell_type": "markdown",
      "metadata": {
        "id": "wDGv18s6iNb6"
      },
      "source": [
        "$$\n",
        "Y: Response \\ Variable\\\\\\\\\n",
        "X\\_1 :Predictor\\ Variable \\ 1\\\\\\\\\n",
        "X\\_2: Predictor\\ Variable \\ 2\\\\\\\\\n",
        "X\\_3: Predictor\\ Variable \\ 3\\\\\\\\\n",
        "X\\_4: Predictor\\ Variable \\ 4\\\\\\\\\n",
        "$$\n"
      ]
    },
    {
      "cell_type": "markdown",
      "metadata": {
        "id": "JYbS6sMwiNb6"
      },
      "source": [
        "$$\n",
        "a: intercept\\\\\\\\\n",
        "b\\_1 :coefficients \\ of\\ Variable \\ 1\\\\\\\\\n",
        "b\\_2: coefficients \\ of\\ Variable \\ 2\\\\\\\\\n",
        "b\\_3: coefficients \\ of\\ Variable \\ 3\\\\\\\\\n",
        "b\\_4: coefficients \\ of\\ Variable \\ 4\\\\\\\\\n",
        "$$\n"
      ]
    },
    {
      "cell_type": "markdown",
      "metadata": {
        "id": "IsKFonRXiNb6"
      },
      "source": [
        "The equation is given by:\n"
      ]
    },
    {
      "cell_type": "markdown",
      "metadata": {
        "id": "4WAMV8n9iNb6"
      },
      "source": [
        "$$\n",
        "Yhat = a + b\\_1 X\\_1 + b\\_2 X\\_2 + b\\_3 X\\_3 + b\\_4 X\\_4\n",
        "$$\n"
      ]
    },
    {
      "cell_type": "markdown",
      "metadata": {
        "id": "rDfaQzMriNb6"
      },
      "source": [
        "<p>From the previous section  we know that other good predictors of price could be:</p>\n",
        "<ul>\n",
        "    <li>Horsepower</li>\n",
        "    <li>Curb-weight</li>\n",
        "    <li>Engine-size</li>\n",
        "    <li>Highway-mpg</li>\n",
        "</ul>\n",
        "Let's develop a model using these variables as the predictor variables.\n"
      ]
    },
    {
      "cell_type": "code",
      "execution_count": 16,
      "metadata": {
        "id": "IOqEZ88riNb6"
      },
      "outputs": [],
      "source": [
        "Z = df[['horsepower', 'curb-weight', 'engine-size', 'highway-mpg']]"
      ]
    },
    {
      "cell_type": "markdown",
      "metadata": {
        "id": "EnMK2ShJiNb7"
      },
      "source": [
        "Fit the linear model using the four above-mentioned variables.\n"
      ]
    },
    {
      "cell_type": "code",
      "execution_count": 17,
      "metadata": {
        "colab": {
          "base_uri": "https://localhost:8080/"
        },
        "id": "q_8BU7LWiNb7",
        "outputId": "7ad2cb5a-a4c9-48af-c711-a7759095c0d6"
      },
      "outputs": [
        {
          "output_type": "execute_result",
          "data": {
            "text/plain": [
              "LinearRegression()"
            ]
          },
          "metadata": {},
          "execution_count": 17
        }
      ],
      "source": [
        "lm.fit(Z, df['price'])"
      ]
    },
    {
      "cell_type": "markdown",
      "metadata": {
        "id": "3a0lG4t_iNb7"
      },
      "source": [
        "What is the value of the intercept(a)?\n"
      ]
    },
    {
      "cell_type": "code",
      "execution_count": 18,
      "metadata": {
        "colab": {
          "base_uri": "https://localhost:8080/"
        },
        "id": "YsxVJcPBiNb7",
        "outputId": "96abe92b-e7ae-4801-aaf0-cf6bf8a8f385"
      },
      "outputs": [
        {
          "output_type": "execute_result",
          "data": {
            "text/plain": [
              "-15806.62462632922"
            ]
          },
          "metadata": {},
          "execution_count": 18
        }
      ],
      "source": [
        "lm.intercept_"
      ]
    },
    {
      "cell_type": "markdown",
      "metadata": {
        "id": "yTtlYsPFiNb7"
      },
      "source": [
        "What are the values of the coefficients (b1, b2, b3, b4)?\n"
      ]
    },
    {
      "cell_type": "code",
      "execution_count": 19,
      "metadata": {
        "colab": {
          "base_uri": "https://localhost:8080/"
        },
        "id": "8fHCpGiZiNb7",
        "outputId": "166f5306-1907-40ef-823b-3a93948f6e19"
      },
      "outputs": [
        {
          "output_type": "execute_result",
          "data": {
            "text/plain": [
              "array([53.49574423,  4.70770099, 81.53026382, 36.05748882])"
            ]
          },
          "metadata": {},
          "execution_count": 19
        }
      ],
      "source": [
        "lm.coef_"
      ]
    },
    {
      "cell_type": "markdown",
      "metadata": {
        "id": "LzRNA0bAiNb7"
      },
      "source": [
        "What is the final estimated linear model that we get?\n"
      ]
    },
    {
      "cell_type": "markdown",
      "metadata": {
        "id": "aZiKzXLoiNb7"
      },
      "source": [
        "As we saw above, we should get a final linear function with the structure:\n",
        "\n",
        "$$\n",
        "Yhat = a + b\\_1 X\\_1 + b\\_2 X\\_2 + b\\_3 X\\_3 + b\\_4 X\\_4\n",
        "$$\n",
        "\n",
        "What is the linear function we get in this example?\n"
      ]
    },
    {
      "cell_type": "markdown",
      "metadata": {
        "id": "8bhcdczKiNb8"
      },
      "source": [
        "<b>Price</b> = -15678.742628061467 + 52.65851272 x <b>horsepower</b> + 4.69878948 x <b>curb-weight</b> + 81.95906216 x <b>engine-size</b> + 33.58258185 x <b>highway-mpg</b>\n"
      ]
    },
    {
      "cell_type": "markdown",
      "metadata": {
        "id": "2R-wANo5iNb8"
      },
      "source": [
        "<div class=\"alert alert-danger alertdanger\" style=\"margin-top: 20px\">\n",
        "<h1> Question  #2 a): </h1>\n",
        "Create and train a Multiple Linear Regression model \"lm2\" where the response variable is \"price\", and the predictor variable is \"normalized-losses\" and  \"highway-mpg\".\n",
        "</div>\n"
      ]
    },
    {
      "cell_type": "code",
      "execution_count": 21,
      "metadata": {
        "colab": {
          "base_uri": "https://localhost:8080/"
        },
        "id": "IlY43ZrbiNb8",
        "outputId": "364b9719-268c-4d3b-9a0d-e70d9ddfcdef"
      },
      "outputs": [
        {
          "output_type": "execute_result",
          "data": {
            "text/plain": [
              "LinearRegression()"
            ]
          },
          "metadata": {},
          "execution_count": 21
        }
      ],
      "source": [
        "# Write your code below and press Shift+Enter to execute \n",
        "Z2 = df[['normalized-losses', 'highway-mpg']]\n",
        "lm2 = LinearRegression()\n",
        "lm2.fit(Z, df['price'])\n",
        "lm2"
      ]
    },
    {
      "cell_type": "markdown",
      "metadata": {
        "id": "sEU6072ViNb8"
      },
      "source": [
        "<details><summary>Click here for the solution</summary>\n",
        "\n",
        "```python\n",
        "lm2 = LinearRegression()\n",
        "lm2.fit(df[['normalized-losses' , 'highway-mpg']],df['price'])\n",
        "\n",
        "\n",
        "```\n",
        "\n",
        "</details>\n"
      ]
    },
    {
      "cell_type": "markdown",
      "metadata": {
        "id": "WgLX6ZZ5iNb8"
      },
      "source": [
        "<div class=\"alert alert-danger alertdanger\" style=\"margin-top: 20px\">\n",
        "<h1>Question  #2 b): </h1>\n",
        "<b>Find the coefficient of the model.</b>\n",
        "</div>\n"
      ]
    },
    {
      "cell_type": "code",
      "execution_count": 23,
      "metadata": {
        "colab": {
          "base_uri": "https://localhost:8080/"
        },
        "id": "7p-wwLr4iNb8",
        "outputId": "c7397e4f-7e5e-4b7b-85f5-028924a364c0"
      },
      "outputs": [
        {
          "output_type": "execute_result",
          "data": {
            "text/plain": [
              "array([53.49574423,  4.70770099, 81.53026382, 36.05748882])"
            ]
          },
          "metadata": {},
          "execution_count": 23
        }
      ],
      "source": [
        "# Write your code below and press Shift+Enter to execute \n",
        "lm2.coef_"
      ]
    },
    {
      "cell_type": "markdown",
      "metadata": {
        "id": "vAHpSBAEiNb8"
      },
      "source": [
        "<details><summary>Click here for the solution</summary>\n",
        "\n",
        "```python\n",
        "lm2.coef_\n",
        "\n",
        "```\n",
        "\n",
        "</details>\n"
      ]
    },
    {
      "cell_type": "markdown",
      "metadata": {
        "id": "PvgpW2hbiNb9"
      },
      "source": [
        "<h2>2. Model Evaluation Using Visualization</h2>\n"
      ]
    },
    {
      "cell_type": "markdown",
      "metadata": {
        "id": "xPvDr3WJiNb9"
      },
      "source": [
        "Now that we've developed some models, how do we evaluate our models and choose the best one? One way to do this is by using a visualization.\n"
      ]
    },
    {
      "cell_type": "markdown",
      "metadata": {
        "id": "_C2Fq_0hiNb9"
      },
      "source": [
        "Import the visualization package, seaborn:\n"
      ]
    },
    {
      "cell_type": "code",
      "execution_count": 24,
      "metadata": {
        "id": "Lb0HUzwAiNb9"
      },
      "outputs": [],
      "source": [
        "# import the visualization package: seaborn\n",
        "import seaborn as sns\n",
        "%matplotlib inline "
      ]
    },
    {
      "cell_type": "markdown",
      "metadata": {
        "id": "YV7CGWagiNb9"
      },
      "source": [
        "<h3>Regression Plot</h3>\n"
      ]
    },
    {
      "cell_type": "markdown",
      "metadata": {
        "id": "unB41P9AiNb9"
      },
      "source": [
        "<p>When it comes to simple linear regression, an excellent way to visualize the fit of our model is by using <b>regression plots</b>.</p>\n",
        "\n",
        "<p>This plot will show a combination of a scattered data points (a <b>scatterplot</b>), as well as the fitted <b>linear regression</b> line going through the data. This will give us a reasonable estimate of the relationship between the two variables, the strength of the correlation, as well as the direction (positive or negative correlation).</p>\n"
      ]
    },
    {
      "cell_type": "markdown",
      "metadata": {
        "id": "xHkIK9EjiNb9"
      },
      "source": [
        "Let's visualize **highway-mpg** as potential predictor variable of price:\n"
      ]
    },
    {
      "cell_type": "code",
      "execution_count": 25,
      "metadata": {
        "colab": {
          "base_uri": "https://localhost:8080/",
          "height": 623
        },
        "id": "qzdsf2pviNb9",
        "outputId": "bcebbf16-9a13-4478-afe9-fe1c1804b426"
      },
      "outputs": [
        {
          "output_type": "execute_result",
          "data": {
            "text/plain": [
              "(0.0, 48180.03369608423)"
            ]
          },
          "metadata": {},
          "execution_count": 25
        },
        {
          "output_type": "display_data",
          "data": {
            "text/plain": [
              "<Figure size 864x720 with 1 Axes>"
            ],
            "image/png": "[encoded data removed]"
          },
          "metadata": {
            "needs_background": "light"
          }
        }
      ],
      "source": [
        "width = 12\n",
        "height = 10\n",
        "plt.figure(figsize=(width, height))\n",
        "sns.regplot(x=\"highway-mpg\", y=\"price\", data=df)\n",
        "plt.ylim(0,)"
      ]
    },
    {
      "cell_type": "markdown",
      "metadata": {
        "id": "ISxsINcCiNb9"
      },
      "source": [
        "<p>We can see from this plot that price is negatively correlated to highway-mpg since the regression slope is negative.\n",
        "\n",
        "One thing to keep in mind when looking at a regression plot is to pay attention to how scattered the data points are around the regression line. This will give you a good indication of the variance of the data and whether a linear model would be the best fit or not. If the data is too far off from the line, this linear model might not be the best model for this data.\n",
        "\n",
        "Let's compare this plot to the regression plot of \"peak-rpm\".</p>\n"
      ]
    },
    {
      "cell_type": "code",
      "execution_count": 26,
      "metadata": {
        "colab": {
          "base_uri": "https://localhost:8080/",
          "height": 623
        },
        "id": "HFQPwnA5iNb-",
        "outputId": "97f98c62-1054-4001-e996-0d780809ffc8"
      },
      "outputs": [
        {
          "output_type": "execute_result",
          "data": {
            "text/plain": [
              "(0.0, 47414.1)"
            ]
          },
          "metadata": {},
          "execution_count": 26
        },
        {
          "output_type": "display_data",
          "data": {
            "text/plain": [
              "<Figure size 864x720 with 1 Axes>"
            ],
            "image/png": "[encoded data removed]"
          },
          "metadata": {
            "needs_background": "light"
          }
        }
      ],
      "source": [
        "plt.figure(figsize=(width, height))\n",
        "sns.regplot(x=\"peak-rpm\", y=\"price\", data=df)\n",
        "plt.ylim(0,)"
      ]
    },
    {
      "cell_type": "markdown",
      "metadata": {
        "id": "e5JzHoujiNb-"
      },
      "source": [
        "<p>Comparing the regression plot of \"peak-rpm\" and \"highway-mpg\", we see that the points for \"highway-mpg\" are much closer to the generated line and, on average, decrease. The points for \"peak-rpm\" have more spread around the predicted line and it is much harder to determine if the points are decreasing or increasing as the \"peak-rpm\" increases.</p>\n"
      ]
    },
    {
      "cell_type": "markdown",
      "metadata": {
        "id": "pgANE4lKiNb-"
      },
      "source": [
        "<div class=\"alert alert-danger alertdanger\" style=\"margin-top: 20px\">\n",
        "<h1>Question #3:</h1>\n",
        "<b>Given the regression plots above, is \"peak-rpm\" or \"highway-mpg\" more strongly correlated with \"price\"? Use the method  \".corr()\" to verify your answer.</b>\n",
        "</div>\n"
      ]
    },
    {
      "cell_type": "code",
      "execution_count": 28,
      "metadata": {
        "colab": {
          "base_uri": "https://localhost:8080/",
          "height": 143
        },
        "id": "G5pLEtABiNb-",
        "outputId": "42f74eca-a11a-4753-c874-b70dc97d521b"
      },
      "outputs": [
        {
          "output_type": "execute_result",
          "data": {
            "text/plain": [
              "             peak-rpm  highway-mpg     price\n",
              "peak-rpm     1.000000    -0.058598 -0.101616\n",
              "highway-mpg -0.058598     1.000000 -0.704692\n",
              "price       -0.101616    -0.704692  1.000000"
            ],
            "text/html": [
              "\n",
              "  <div id=\"df-781b6037-a533-472f-914e-9d1f07118d71\">\n",
              "    <div class=\"colab-df-container\">\n",
              "      <div>\n",
              "<style scoped>\n",
              "    .dataframe tbody tr th:only-of-type {\n",
              "        vertical-align: middle;\n",
              "    }\n",
              "\n",
              "    .dataframe tbody tr th {\n",
              "        vertical-align: top;\n",
              "    }\n",
              "\n",
              "    .dataframe thead th {\n",
              "        text-align: right;\n",
              "    }\n",
              "</style>\n",
              "<table border=\"1\" class=\"dataframe\">\n",
              "  <thead>\n",
              "    <tr style=\"text-align: right;\">\n",
              "      <th></th>\n",
              "      <th>peak-rpm</th>\n",
              "      <th>highway-mpg</th>\n",
              "      <th>price</th>\n",
              "    </tr>\n",
              "  </thead>\n",
              "  <tbody>\n",
              "    <tr>\n",
              "      <th>peak-rpm</th>\n",
              "      <td>1.000000</td>\n",
              "      <td>-0.058598</td>\n",
              "      <td>-0.101616</td>\n",
              "    </tr>\n",
              "    <tr>\n",
              "      <th>highway-mpg</th>\n",
              "      <td>-0.058598</td>\n",
              "      <td>1.000000</td>\n",
              "      <td>-0.704692</td>\n",
              "    </tr>\n",
              "    <tr>\n",
              "      <th>price</th>\n",
              "      <td>-0.101616</td>\n",
              "      <td>-0.704692</td>\n",
              "      <td>1.000000</td>\n",
              "    </tr>\n",
              "  </tbody>\n",
              "</table>\n",
              "</div>\n",
              "      <button class=\"colab-df-convert\" onclick=\"convertToInteractive('df-781b6037-a533-472f-914e-9d1f07118d71')\"\n",
              "              title=\"Convert this dataframe to an interactive table.\"\n",
              "              style=\"display:none;\">\n",
              "        \n",
              "  <svg xmlns=\"http://www.w3.org/2000/svg\" height=\"24px\"viewBox=\"0 0 24 24\"\n",
              "       width=\"24px\">\n",
              "    <path d=\"M0 0h24v24H0V0z\" fill=\"none\"/>\n",
              "    <path d=\"M18.56 5.44l.94 2.06.94-2.06 2.06-.94-2.06-.94-.94-2.06-.94 2.06-2.06.94zm-11 1L8.5 8.5l.94-2.06 2.06-.94-2.06-.94L8.5 2.5l-.94 2.06-2.06.94zm10 10l.94 2.06.94-2.06 2.06-.94-2.06-.94-.94-2.06-.94 2.06-2.06.94z\"/><path d=\"M17.41 7.96l-1.37-1.37c-.4-.4-.92-.59-1.43-.59-.52 0-1.04.2-1.43.59L10.3 9.45l-7.72 7.72c-.78.78-.78 2.05 0 2.83L4 21.41c.39.39.9.59 1.41.59.51 0 1.02-.2 1.41-.59l7.78-7.78 2.81-2.81c.8-.78.8-2.07 0-2.86zM5.41 20L4 18.59l7.72-7.72 1.47 1.35L5.41 20z\"/>\n",
              "  </svg>\n",
              "      </button>\n",
              "      \n",
              "  <style>\n",
              "    .colab-df-container {\n",
              "      display:flex;\n",
              "      flex-wrap:wrap;\n",
              "      gap: 12px;\n",
              "    }\n",
              "\n",
              "    .colab-df-convert {\n",
              "      background-color: #E8F0FE;\n",
              "      border: none;\n",
              "      border-radius: 50%;\n",
              "      cursor: pointer;\n",
              "      display: none;\n",
              "      fill: #1967D2;\n",
              "      height: 32px;\n",
              "      padding: 0 0 0 0;\n",
              "      width: 32px;\n",
              "    }\n",
              "\n",
              "    .colab-df-convert:hover {\n",
              "      background-color: #E2EBFA;\n",
              "      box-shadow: 0px 1px 2px rgba(60, 64, 67, 0.3), 0px 1px 3px 1px rgba(60, 64, 67, 0.15);\n",
              "      fill: #174EA6;\n",
              "    }\n",
              "\n",
              "    [theme=dark] .colab-df-convert {\n",
              "      background-color: #3B4455;\n",
              "      fill: #D2E3FC;\n",
              "    }\n",
              "\n",
              "    [theme=dark] .colab-df-convert:hover {\n",
              "      background-color: #434B5C;\n",
              "      box-shadow: 0px 1px 3px 1px rgba(0, 0, 0, 0.15);\n",
              "      filter: drop-shadow(0px 1px 2px rgba(0, 0, 0, 0.3));\n",
              "      fill: #FFFFFF;\n",
              "    }\n",
              "  </style>\n",
              "\n",
              "      <script>\n",
              "        const buttonEl =\n",
              "          document.querySelector('#df-781b6037-a533-472f-914e-9d1f07118d71 button.colab-df-convert');\n",
              "        buttonEl.style.display =\n",
              "          google.colab.kernel.accessAllowed ? 'block' : 'none';\n",
              "\n",
              "        async function convertToInteractive(key) {\n",
              "          const element = document.querySelector('#df-781b6037-a533-472f-914e-9d1f07118d71');\n",
              "          const dataTable =\n",
              "            await google.colab.kernel.invokeFunction('convertToInteractive',\n",
              "                                                     [key], {});\n",
              "          if (!dataTable) return;\n",
              "\n",
              "          const docLinkHtml = 'Like what you see? Visit the ' +\n",
              "            '<a target=\"_blank\" href=https://colab.research.google.com/notebooks/data_table.ipynb>data table notebook</a>'\n",
              "            + ' to learn more about interactive tables.';\n",
              "          element.innerHTML = '';\n",
              "          dataTable['output_type'] = 'display_data';\n",
              "          await google.colab.output.renderOutput(dataTable, element);\n",
              "          const docLink = document.createElement('div');\n",
              "          docLink.innerHTML = docLinkHtml;\n",
              "          element.appendChild(docLink);\n",
              "        }\n",
              "      </script>\n",
              "    </div>\n",
              "  </div>\n",
              "  "
            ]
          },
          "metadata": {},
          "execution_count": 28
        }
      ],
      "source": [
        "# Write your code below and press Shift+Enter to execute \n",
        "df[[\"peak-rpm\",\"highway-mpg\",\"price\"]].corr()\n",
        "# highway is more correlated to price"
      ]
    },
    {
      "cell_type": "markdown",
      "metadata": {
        "id": "FdUp6lPviNb-"
      },
      "source": [
        "<details><summary>Click here for the solution</summary>\n",
        "\n",
        "```python\n",
        "# The variable \"highway-mpg\" has a stronger correlation with \"price\", it is approximate -0.704692  compared to \"peak-rpm\" which is approximate -0.101616. You can verify it using the following command:\n",
        "\n",
        "df[[\"peak-rpm\",\"highway-mpg\",\"price\"]].corr()\n",
        "\n",
        "```\n",
        "\n",
        "</details>\n"
      ]
    },
    {
      "cell_type": "markdown",
      "metadata": {
        "id": "CydpyJJFiNb-"
      },
      "source": [
        "<h3>Residual Plot</h3>\n",
        "\n",
        "<p>A good way to visualize the variance of the data is to use a residual plot.</p>\n",
        "\n",
        "<p>What is a <b>residual</b>?</p>\n",
        "\n",
        "<p>The difference between the observed value (y) and the predicted value (Yhat) is called the residual (e). When we look at a regression plot, the residual is the distance from the data point to the fitted regression line.</p>\n",
        "\n",
        "<p>So what is a <b>residual plot</b>?</p>\n",
        "\n",
        "<p>A residual plot is a graph that shows the residuals on the vertical y-axis and the independent variable on the horizontal x-axis.</p>\n",
        "\n",
        "<p>What do we pay attention to when looking at a residual plot?</p>\n",
        "\n",
        "<p>We look at the spread of the residuals:</p>\n",
        "\n",
        "<p>- If the points in a residual plot are <b>randomly spread out around the x-axis</b>, then a <b>linear model is appropriate</b> for the data.\n",
        "\n",
        "Why is that? Randomly spread out residuals means that the variance is constant, and thus the linear model is a good fit for this data.</p>\n"
      ]
    },
    {
      "cell_type": "code",
      "execution_count": 29,
      "metadata": {
        "colab": {
          "base_uri": "https://localhost:8080/",
          "height": 606
        },
        "id": "I_MTvsquiNb_",
        "outputId": "e11e4960-3241-4b7d-a233-ec1584207f29"
      },
      "outputs": [
        {
          "output_type": "display_data",
          "data": {
            "text/plain": [
              "<Figure size 864x720 with 1 Axes>"
            ],
            "image/png": "[encoded data removed]"
          },
          "metadata": {
            "needs_background": "light"
          }
        }
      ],
      "source": [
        "width = 12\n",
        "height = 10\n",
        "plt.figure(figsize=(width, height))\n",
        "sns.residplot(x=df['highway-mpg'], y=df['price'])\n",
        "plt.show()"
      ]
    },
    {
      "cell_type": "markdown",
      "metadata": {
        "id": "xhm8Qx0liNb_"
      },
      "source": [
        "<i>What is this plot telling us?</i>\n",
        "\n",
        "<p>We can see from this residual plot that the residuals are not randomly spread around the x-axis, leading us to believe that maybe a non-linear model is more appropriate for this data.</p>\n"
      ]
    },
    {
      "cell_type": "markdown",
      "metadata": {
        "id": "L3FXF6QPiNb_"
      },
      "source": [
        "<h3>Multiple Linear Regression</h3>\n"
      ]
    },
    {
      "cell_type": "markdown",
      "metadata": {
        "id": "iRU73zLuiNb_"
      },
      "source": [
        "<p>How do we visualize a model for Multiple Linear Regression? This gets a bit more complicated because you can't visualize it with regression or residual plot.</p>\n",
        "\n",
        "<p>One way to look at the fit of the model is by looking at the <b>distribution plot</b>. We can look at the distribution of the fitted values that result from the model and compare it to the distribution of the actual values.</p>\n"
      ]
    },
    {
      "cell_type": "markdown",
      "metadata": {
        "id": "WpwG-OP6iNb_"
      },
      "source": [
        "First, let's make a prediction:\n"
      ]
    },
    {
      "cell_type": "code",
      "execution_count": 30,
      "metadata": {
        "id": "cHpysyxwiNb_"
      },
      "outputs": [],
      "source": [
        "Y_hat = lm.predict(Z)"
      ]
    },
    {
      "cell_type": "code",
      "execution_count": 31,
      "metadata": {
        "colab": {
          "base_uri": "https://localhost:8080/",
          "height": 710
        },
        "id": "jm4mLTuhiNb_",
        "outputId": "60ab2014-b634-4ef8-8398-d67ebb08c7ae"
      },
      "outputs": [
        {
          "output_type": "stream",
          "name": "stderr",
          "text": [
            "/usr/local/lib/python3.8/dist-packages/seaborn/distributions.py:2619: FutureWarning: `distplot` is a deprecated function and will be removed in a future version. Please adapt your code to use either `displot` (a figure-level function with similar flexibility) or `kdeplot` (an axes-level function for kernel density plots).\n",
            "  warnings.warn(msg, FutureWarning)\n",
            "/usr/local/lib/python3.8/dist-packages/seaborn/distributions.py:2619: FutureWarning: `distplot` is a deprecated function and will be removed in a future version. Please adapt your code to use either `displot` (a figure-level function with similar flexibility) or `kdeplot` (an axes-level function for kernel density plots).\n",
            "  warnings.warn(msg, FutureWarning)\n"
          ]
        },
        {
          "output_type": "display_data",
          "data": {
            "text/plain": [
              "<Figure size 864x720 with 1 Axes>"
            ],
            "image/png": "[encoded data removed]"
          },
          "metadata": {
            "needs_background": "light"
          }
        }
      ],
      "source": [
        "plt.figure(figsize=(width, height))\n",
        "\n",
        "\n",
        "ax1 = sns.distplot(df['price'], hist=False, color=\"r\", label=\"Actual Value\")\n",
        "sns.distplot(Y_hat, hist=False, color=\"b\", label=\"Fitted Values\" , ax=ax1)\n",
        "\n",
        "\n",
        "plt.title('Actual vs Fitted Values for Price')\n",
        "plt.xlabel('Price (in dollars)')\n",
        "plt.ylabel('Proportion of Cars')\n",
        "\n",
        "plt.show()\n",
        "plt.close()"
      ]
    },
    {
      "cell_type": "markdown",
      "metadata": {
        "id": "QnJzR9EaiNb_"
      },
      "source": [
        "<p>We can see that the fitted values are reasonably close to the actual values since the two distributions overlap a bit. However, there is definitely some room for improvement.</p>\n"
      ]
    },
    {
      "cell_type": "markdown",
      "metadata": {
        "id": "DyfnHGe5iNcA"
      },
      "source": [
        "<h2>3. Polynomial Regression and Pipelines</h2>\n"
      ]
    },
    {
      "cell_type": "markdown",
      "metadata": {
        "id": "QRhNxUiZiNcA"
      },
      "source": [
        "<p><b>Polynomial regression</b> is a particular case of the general linear regression model or multiple linear regression models.</p> \n",
        "<p>We get non-linear relationships by squaring or setting higher-order terms of the predictor variables.</p>\n",
        "\n",
        "<p>There are different orders of polynomial regression:</p>\n"
      ]
    },
    {
      "cell_type": "markdown",
      "metadata": {
        "id": "m6o9f2wWiNcA"
      },
      "source": [
        "<center><b>Quadratic - 2nd Order</b></center>\n",
        "$$\n",
        "Yhat = a + b_1 X +b_2 X^2 \n",
        "$$\n",
        "\n",
        "<center><b>Cubic - 3rd Order</b></center>\n",
        "$$\n",
        "Yhat = a + b_1 X +b_2 X^2 +b_3 X^3\\\\\\\\\n",
        "$$\n",
        "\n",
        "<center><b>Higher-Order</b>:</center>\n",
        "$$\n",
        "Y = a + b_1 X +b_2 X^2 +b_3 X^3 ....\\\\\\\\\n",
        "$$\n"
      ]
    },
    {
      "cell_type": "markdown",
      "metadata": {
        "id": "ca8nIwZGiNcA"
      },
      "source": [
        "<p>We saw earlier that a linear model did not provide the best fit while using \"highway-mpg\" as the predictor variable. Let's see if we can try fitting a polynomial model to the data instead.</p>\n"
      ]
    },
    {
      "cell_type": "markdown",
      "metadata": {
        "id": "aGEFKvKGiNcA"
      },
      "source": [
        "<p>We will use the following function to plot the data:</p>\n"
      ]
    },
    {
      "cell_type": "code",
      "execution_count": 32,
      "metadata": {
        "id": "KD9dusQviNcA"
      },
      "outputs": [],
      "source": [
        "def PlotPolly(model, independent_variable, dependent_variabble, Name):\n",
        "    x_new = np.linspace(15, 55, 100)\n",
        "    y_new = model(x_new)\n",
        "\n",
        "    plt.plot(independent_variable, dependent_variabble, '.', x_new, y_new, '-')\n",
        "    plt.title('Polynomial Fit with Matplotlib for Price ~ Length')\n",
        "    ax = plt.gca()\n",
        "    ax.set_facecolor((0.898, 0.898, 0.898))\n",
        "    fig = plt.gcf()\n",
        "    plt.xlabel(Name)\n",
        "    plt.ylabel('Price of Cars')\n",
        "\n",
        "    plt.show()\n",
        "    plt.close()"
      ]
    },
    {
      "cell_type": "markdown",
      "metadata": {
        "id": "OoHffh7BiNcA"
      },
      "source": [
        "Let's get the variables:\n"
      ]
    },
    {
      "cell_type": "code",
      "execution_count": 33,
      "metadata": {
        "id": "gOvkMis-iNcA"
      },
      "outputs": [],
      "source": [
        "x = df['highway-mpg']\n",
        "y = df['price']"
      ]
    },
    {
      "cell_type": "markdown",
      "metadata": {
        "id": "zh8IxVKLiNcA"
      },
      "source": [
        "Let's fit the polynomial using the function <b>polyfit</b>, then use the function <b>poly1d</b> to display the polynomial function.\n"
      ]
    },
    {
      "cell_type": "code",
      "execution_count": 34,
      "metadata": {
        "colab": {
          "base_uri": "https://localhost:8080/"
        },
        "id": "MHxSjWcSiNcB",
        "outputId": "b376caa0-1fa5-4c28-ebae-0c424a7c53e0"
      },
      "outputs": [
        {
          "output_type": "stream",
          "name": "stdout",
          "text": [
            "        3         2\n",
            "-1.557 x + 204.8 x - 8965 x + 1.379e+05\n"
          ]
        }
      ],
      "source": [
        "# Here we use a polynomial of the 3rd order (cubic) \n",
        "f = np.polyfit(x, y, 3)\n",
        "p = np.poly1d(f)\n",
        "print(p)"
      ]
    },
    {
      "cell_type": "markdown",
      "metadata": {
        "id": "URnXpMoqiNcB"
      },
      "source": [
        "Let's plot the function:\n"
      ]
    },
    {
      "cell_type": "code",
      "execution_count": 35,
      "metadata": {
        "colab": {
          "base_uri": "https://localhost:8080/",
          "height": 295
        },
        "id": "vIR4t1SjiNcB",
        "outputId": "b88d18fc-3837-4684-b9ae-b670d6ac9ac6"
      },
      "outputs": [
        {
          "output_type": "display_data",
          "data": {
            "text/plain": [
              "<Figure size 432x288 with 1 Axes>"
            ],
            "image/png": "[encoded data removed]"
          },
          "metadata": {
            "needs_background": "light"
          }
        }
      ],
      "source": [
        "PlotPolly(p, x, y, 'highway-mpg')"
      ]
    },
    {
      "cell_type": "code",
      "execution_count": 36,
      "metadata": {
        "colab": {
          "base_uri": "https://localhost:8080/"
        },
        "id": "oWeXaXhxiNcB",
        "outputId": "ecc95100-7de8-48a8-a864-a816f3f04250"
      },
      "outputs": [
        {
          "output_type": "execute_result",
          "data": {
            "text/plain": [
              "array([-1.55663829e+00,  2.04754306e+02, -8.96543312e+03,  1.37923594e+05])"
            ]
          },
          "metadata": {},
          "execution_count": 36
        }
      ],
      "source": [
        "np.polyfit(x, y, 3)"
      ]
    },
    {
      "cell_type": "markdown",
      "metadata": {
        "id": "KmMTrvv3iNcB"
      },
      "source": [
        "<p>We can already see from plotting that this polynomial model performs better than the linear model. This is because the generated polynomial function  \"hits\" more of the data points.</p>\n"
      ]
    },
    {
      "cell_type": "markdown",
      "metadata": {
        "id": "z_YFOicaiNcB"
      },
      "source": [
        "<div class=\"alert alert-danger alertdanger\" style=\"margin-top: 20px\">\n",
        "<h1>Question  #4:</h1>\n",
        "<b>Create 11 order polynomial model with the variables x and y from above.</b>\n",
        "</div>\n"
      ]
    },
    {
      "cell_type": "code",
      "execution_count": 37,
      "metadata": {
        "colab": {
          "base_uri": "https://localhost:8080/",
          "height": 364
        },
        "id": "z_rOWPhbiNcB",
        "outputId": "4a4721f6-6008-43e2-e5b0-cb7890cddab6"
      },
      "outputs": [
        {
          "output_type": "stream",
          "name": "stdout",
          "text": [
            "            11             10             9           8         7\n",
            "-1.243e-08 x  + 4.722e-06 x  - 0.0008028 x + 0.08056 x - 5.297 x\n",
            "          6        5             4             3             2\n",
            " + 239.5 x - 7588 x + 1.684e+05 x - 2.565e+06 x + 2.551e+07 x - 1.491e+08 x + 3.879e+08\n"
          ]
        },
        {
          "output_type": "display_data",
          "data": {
            "text/plain": [
              "<Figure size 432x288 with 1 Axes>"
            ],
            "image/png": "[encoded data removed]"
          },
          "metadata": {
            "needs_background": "light"
          }
        }
      ],
      "source": [
        "# Write your code below and press Shift+Enter to execute \n",
        "f1 = np.polyfit(x, y, 11)\n",
        "p1 = np.poly1d(f1)\n",
        "print(p1)\n",
        "PlotPolly(p1,x,y, 'Highway MPG')"
      ]
    },
    {
      "cell_type": "markdown",
      "metadata": {
        "id": "zGij2SXjiNcB"
      },
      "source": [
        "<details><summary>Click here for the solution</summary>\n",
        "\n",
        "```python\n",
        "# Here we use a polynomial of the 11rd order (cubic) \n",
        "f1 = np.polyfit(x, y, 11)\n",
        "p1 = np.poly1d(f1)\n",
        "print(p1)\n",
        "PlotPolly(p1,x,y, 'Highway MPG')\n",
        "\n",
        "```\n",
        "\n",
        "</details>\n"
      ]
    },
    {
      "cell_type": "markdown",
      "metadata": {
        "id": "z2dDFLZsiNcB"
      },
      "source": [
        "<p>The analytical expression for Multivariate Polynomial function gets complicated. For example, the expression for a second-order (degree=2) polynomial with two variables is given by:</p>\n"
      ]
    },
    {
      "cell_type": "markdown",
      "metadata": {
        "id": "3gA9iWJIiNcB"
      },
      "source": [
        "$$\n",
        "Yhat = a + b\\_1 X\\_1 +b\\_2 X\\_2 +b\\_3 X\\_1 X\\_2+b\\_4 X\\_1^2+b\\_5 X\\_2^2\n",
        "$$\n"
      ]
    },
    {
      "cell_type": "markdown",
      "metadata": {
        "id": "PZDyVgfciNcC"
      },
      "source": [
        "We can perform a polynomial transform on multiple features. First, we import the module:\n"
      ]
    },
    {
      "cell_type": "code",
      "execution_count": 38,
      "metadata": {
        "id": "Escbsxp8iNcC"
      },
      "outputs": [],
      "source": [
        "from sklearn.preprocessing import PolynomialFeatures"
      ]
    },
    {
      "cell_type": "markdown",
      "metadata": {
        "id": "T8P3q_B2iNcC"
      },
      "source": [
        "We create a <b>PolynomialFeatures</b> object of degree 2:\n"
      ]
    },
    {
      "cell_type": "code",
      "execution_count": 39,
      "metadata": {
        "colab": {
          "base_uri": "https://localhost:8080/"
        },
        "id": "0dHBOS-oiNcC",
        "outputId": "9c39d05d-66e7-4478-b5bb-35a7a716bcc3"
      },
      "outputs": [
        {
          "output_type": "execute_result",
          "data": {
            "text/plain": [
              "PolynomialFeatures()"
            ]
          },
          "metadata": {},
          "execution_count": 39
        }
      ],
      "source": [
        "pr=PolynomialFeatures(degree=2)\n",
        "pr"
      ]
    },
    {
      "cell_type": "code",
      "execution_count": 40,
      "metadata": {
        "id": "ETqMlGTziNcC"
      },
      "outputs": [],
      "source": [
        "Z_pr=pr.fit_transform(Z)"
      ]
    },
    {
      "cell_type": "markdown",
      "metadata": {
        "id": "v6eylyqsiNcC"
      },
      "source": [
        "In the original data, there are 201 samples and 4 features.\n"
      ]
    },
    {
      "cell_type": "code",
      "execution_count": 41,
      "metadata": {
        "colab": {
          "base_uri": "https://localhost:8080/"
        },
        "id": "Bf0i8L24iNcC",
        "outputId": "24f4d223-a0b4-4663-cd42-20c7ef67d290"
      },
      "outputs": [
        {
          "output_type": "execute_result",
          "data": {
            "text/plain": [
              "(201, 4)"
            ]
          },
          "metadata": {},
          "execution_count": 41
        }
      ],
      "source": [
        "Z.shape"
      ]
    },
    {
      "cell_type": "markdown",
      "metadata": {
        "id": "oqupeFH8iNcC"
      },
      "source": [
        "After the transformation, there are 201 samples and 15 features.\n"
      ]
    },
    {
      "cell_type": "code",
      "execution_count": 42,
      "metadata": {
        "colab": {
          "base_uri": "https://localhost:8080/"
        },
        "id": "ZaHb6TC7iNcC",
        "outputId": "f61e70a7-8cf7-4566-f64d-10e7feb808d1"
      },
      "outputs": [
        {
          "output_type": "execute_result",
          "data": {
            "text/plain": [
              "(201, 15)"
            ]
          },
          "metadata": {},
          "execution_count": 42
        }
      ],
      "source": [
        "Z_pr.shape"
      ]
    },
    {
      "cell_type": "markdown",
      "metadata": {
        "id": "hUpLjgoqiNcD"
      },
      "source": [
        "<h2>Pipeline</h2>\n"
      ]
    },
    {
      "cell_type": "markdown",
      "metadata": {
        "id": "zvS1_KrDiNcD"
      },
      "source": [
        "<p>Data Pipelines simplify the steps of processing the data. We use the module <b>Pipeline</b> to create a pipeline. We also use <b>StandardScaler</b> as a step in our pipeline.</p>\n"
      ]
    },
    {
      "cell_type": "code",
      "execution_count": 43,
      "metadata": {
        "id": "ORfOI2E-iNcD"
      },
      "outputs": [],
      "source": [
        "from sklearn.pipeline import Pipeline\n",
        "from sklearn.preprocessing import StandardScaler"
      ]
    },
    {
      "cell_type": "markdown",
      "metadata": {
        "id": "lCcB1dYjiNcD"
      },
      "source": [
        "We create the pipeline by creating a list of tuples including the name of the model or estimator and its corresponding constructor.\n"
      ]
    },
    {
      "cell_type": "code",
      "execution_count": 44,
      "metadata": {
        "id": "CLKkmcIxiNcD"
      },
      "outputs": [],
      "source": [
        "Input=[('scale',StandardScaler()), ('polynomial', PolynomialFeatures(include_bias=False)), ('model',LinearRegression())]"
      ]
    },
    {
      "cell_type": "markdown",
      "metadata": {
        "id": "wEpctuvfiNcD"
      },
      "source": [
        "We input the list as an argument to the pipeline constructor:\n"
      ]
    },
    {
      "cell_type": "code",
      "execution_count": 45,
      "metadata": {
        "colab": {
          "base_uri": "https://localhost:8080/"
        },
        "id": "uQWgeR63iNcD",
        "outputId": "c1da291d-507f-4242-d958-56bc4fe0faf9"
      },
      "outputs": [
        {
          "output_type": "execute_result",
          "data": {
            "text/plain": [
              "Pipeline(steps=[('scale', StandardScaler()),\n",
              "                ('polynomial', PolynomialFeatures(include_bias=False)),\n",
              "                ('model', LinearRegression())])"
            ]
          },
          "metadata": {},
          "execution_count": 45
        }
      ],
      "source": [
        "pipe=Pipeline(Input)\n",
        "pipe"
      ]
    },
    {
      "cell_type": "markdown",
      "metadata": {
        "id": "xku0SRARiNcD"
      },
      "source": [
        "First, we convert the data type Z to type float to avoid conversion warnings that may appear as a result of StandardScaler taking float inputs.\n",
        "\n",
        "Then, we can normalize the data,  perform a transform and fit the model simultaneously.\n"
      ]
    },
    {
      "cell_type": "code",
      "execution_count": 46,
      "metadata": {
        "colab": {
          "base_uri": "https://localhost:8080/"
        },
        "id": "J30l4j3HiNcD",
        "outputId": "17b8702b-51d2-42a5-9e00-c072e9024cb6"
      },
      "outputs": [
        {
          "output_type": "execute_result",
          "data": {
            "text/plain": [
              "Pipeline(steps=[('scale', StandardScaler()),\n",
              "                ('polynomial', PolynomialFeatures(include_bias=False)),\n",
              "                ('model', LinearRegression())])"
            ]
          },
          "metadata": {},
          "execution_count": 46
        }
      ],
      "source": [
        "Z = Z.astype(float)\n",
        "pipe.fit(Z,y)"
      ]
    },
    {
      "cell_type": "markdown",
      "metadata": {
        "id": "zSVDuKmqiNcD"
      },
      "source": [
        "Similarly,  we can normalize the data, perform a transform and produce a prediction  simultaneously.\n"
      ]
    },
    {
      "cell_type": "code",
      "execution_count": 47,
      "metadata": {
        "colab": {
          "base_uri": "https://localhost:8080/"
        },
        "id": "zBUnDlcDiNcE",
        "outputId": "9da48b86-60ac-4666-ff86-b172ddfaa523"
      },
      "outputs": [
        {
          "output_type": "execute_result",
          "data": {
            "text/plain": [
              "array([13102.74784201, 13102.74784201, 18225.54572197, 10390.29636555])"
            ]
          },
          "metadata": {},
          "execution_count": 47
        }
      ],
      "source": [
        "ypipe=pipe.predict(Z)\n",
        "ypipe[0:4]"
      ]
    },
    {
      "cell_type": "markdown",
      "metadata": {
        "id": "FaqK_V2IiNcE"
      },
      "source": [
        "<div class=\"alert alert-danger alertdanger\" style=\"margin-top: 20px\">\n",
        "<h1>Question #5:</h1>\n",
        "<b>Create a pipeline that standardizes the data, then produce a prediction using a linear regression model using the features Z and target y.</b>\n",
        "</div>\n"
      ]
    },
    {
      "cell_type": "code",
      "execution_count": 48,
      "metadata": {
        "colab": {
          "base_uri": "https://localhost:8080/"
        },
        "id": "qD88aYo6iNcE",
        "outputId": "ccc3672f-6863-4a60-c8a1-6aebf41a7d49"
      },
      "outputs": [
        {
          "output_type": "execute_result",
          "data": {
            "text/plain": [
              "array([13699.11161184, 13699.11161184, 19051.65470233, 10620.36193015,\n",
              "       15521.31420211, 13869.66673213, 15456.16196732, 15974.00907672,\n",
              "       17612.35917161, 10722.32509097])"
            ]
          },
          "metadata": {},
          "execution_count": 48
        }
      ],
      "source": [
        "# Write your code below and press Shift+Enter to execute \n",
        "Input=[('scale',StandardScaler()),('model',LinearRegression())]\n",
        "\n",
        "pipe=Pipeline(Input)\n",
        "\n",
        "pipe.fit(Z,y)\n",
        "\n",
        "ypipe=pipe.predict(Z)\n",
        "ypipe[0:10]"
      ]
    },
    {
      "cell_type": "markdown",
      "metadata": {
        "id": "Vlxg9M10iNcE"
      },
      "source": [
        "<details><summary>Click here for the solution</summary>\n",
        "\n",
        "```python\n",
        "Input=[('scale',StandardScaler()),('model',LinearRegression())]\n",
        "\n",
        "pipe=Pipeline(Input)\n",
        "\n",
        "pipe.fit(Z,y)\n",
        "\n",
        "ypipe=pipe.predict(Z)\n",
        "ypipe[0:10]\n",
        "\n",
        "```\n",
        "\n",
        "</details>\n"
      ]
    },
    {
      "cell_type": "markdown",
      "metadata": {
        "id": "CxrW3Xx8iNcE"
      },
      "source": [
        "<h2>4. Measures for In-Sample Evaluation</h2>\n"
      ]
    },
    {
      "cell_type": "markdown",
      "metadata": {
        "id": "YwL59F-uiNcE"
      },
      "source": [
        "<p>When evaluating our models, not only do we want to visualize the results, but we also want a quantitative measure to determine how accurate the model is.</p>\n",
        "\n",
        "<p>Two very important measures that are often used in Statistics to determine the accuracy of a model are:</p>\n",
        "<ul>\n",
        "    <li><b>R^2 / R-squared</b></li>\n",
        "    <li><b>Mean Squared Error (MSE)</b></li>\n",
        "</ul>\n",
        "\n",
        "<b>R-squared</b>\n",
        "\n",
        "<p>R squared, also known as the coefficient of determination, is a measure to indicate how close the data is to the fitted regression line.</p>\n",
        "\n",
        "<p>The value of the R-squared is the percentage of variation of the response variable (y) that is explained by a linear model.</p>\n",
        "\n",
        "<b>Mean Squared Error (MSE)</b>\n",
        "\n",
        "<p>The Mean Squared Error measures the average of the squares of errors. That is, the difference between actual value (y) and the estimated value (ŷ).</p>\n"
      ]
    },
    {
      "cell_type": "markdown",
      "metadata": {
        "id": "UlWdnCSaiNcE"
      },
      "source": [
        "<h3>Model 1: Simple Linear Regression</h3>\n"
      ]
    },
    {
      "cell_type": "markdown",
      "metadata": {
        "id": "CaOAL7uniNcE"
      },
      "source": [
        "Let's calculate the R^2:\n"
      ]
    },
    {
      "cell_type": "code",
      "execution_count": 49,
      "metadata": {
        "scrolled": true,
        "colab": {
          "base_uri": "https://localhost:8080/"
        },
        "id": "x7jM-gm3iNcF",
        "outputId": "8c16a492-881d-4e34-9b27-3d70662c421f"
      },
      "outputs": [
        {
          "output_type": "stream",
          "name": "stdout",
          "text": [
            "The R-square is:  0.4965911884339176\n"
          ]
        }
      ],
      "source": [
        "#highway_mpg_fit\n",
        "lm.fit(X, Y)\n",
        "# Find the R^2\n",
        "print('The R-square is: ', lm.score(X, Y))"
      ]
    },
    {
      "cell_type": "markdown",
      "metadata": {
        "id": "5vkKSYOgiNcF"
      },
      "source": [
        "We can say that \\~49.659% of the variation of the price is explained by this simple linear model \"horsepower_fit\".\n"
      ]
    },
    {
      "cell_type": "markdown",
      "metadata": {
        "id": "80WEYovSiNcF"
      },
      "source": [
        "Let's calculate the MSE:\n"
      ]
    },
    {
      "cell_type": "markdown",
      "metadata": {
        "id": "cxZosMyPiNcF"
      },
      "source": [
        "We can predict the output i.e., \"yhat\" using the predict method, where X is the input variable:\n"
      ]
    },
    {
      "cell_type": "code",
      "execution_count": 50,
      "metadata": {
        "colab": {
          "base_uri": "https://localhost:8080/"
        },
        "id": "qJnYcUptiNcF",
        "outputId": "696873d2-c8b5-4bc7-dd04-bce5fac76217"
      },
      "outputs": [
        {
          "output_type": "stream",
          "name": "stdout",
          "text": [
            "The output of the first four predicted value is:  [16236.50464347 16236.50464347 17058.23802179 13771.3045085 ]\n"
          ]
        }
      ],
      "source": [
        "Yhat=lm.predict(X)\n",
        "print('The output of the first four predicted value is: ', Yhat[0:4])"
      ]
    },
    {
      "cell_type": "markdown",
      "metadata": {
        "id": "G9wSg5ebiNcF"
      },
      "source": [
        "Let's import the function <b>mean_squared_error</b> from the module <b>metrics</b>:\n"
      ]
    },
    {
      "cell_type": "code",
      "execution_count": 51,
      "metadata": {
        "id": "NspmfNtyiNcF"
      },
      "outputs": [],
      "source": [
        "from sklearn.metrics import mean_squared_error"
      ]
    },
    {
      "cell_type": "markdown",
      "metadata": {
        "id": "23BvZ6WiiNcF"
      },
      "source": [
        "We can compare the predicted results with the actual results:\n"
      ]
    },
    {
      "cell_type": "code",
      "execution_count": 52,
      "metadata": {
        "colab": {
          "base_uri": "https://localhost:8080/"
        },
        "id": "jDUCEq7QiNcF",
        "outputId": "b9e13fee-30b1-40ea-85a9-8a0c7aed092c"
      },
      "outputs": [
        {
          "output_type": "stream",
          "name": "stdout",
          "text": [
            "The mean square error of price and predicted value is:  31635042.944639888\n"
          ]
        }
      ],
      "source": [
        "mse = mean_squared_error(df['price'], Yhat)\n",
        "print('The mean square error of price and predicted value is: ', mse)"
      ]
    },
    {
      "cell_type": "markdown",
      "metadata": {
        "id": "1cyEt3HuiNcG"
      },
      "source": [
        "<h3>Model 2: Multiple Linear Regression</h3>\n"
      ]
    },
    {
      "cell_type": "markdown",
      "metadata": {
        "id": "0f6wqQ0QiNcG"
      },
      "source": [
        "Let's calculate the R^2:\n"
      ]
    },
    {
      "cell_type": "code",
      "execution_count": 54,
      "metadata": {
        "colab": {
          "base_uri": "https://localhost:8080/"
        },
        "id": "fIa_me-piNcG",
        "outputId": "08d045af-ac23-4dab-9f0f-d77b52c006f9"
      },
      "outputs": [
        {
          "output_type": "stream",
          "name": "stdout",
          "text": [
            "The R-square is:  0.8093562806577457\n"
          ]
        }
      ],
      "source": [
        "# fit the model \n",
        "lm.fit(Z, df['price'])\n",
        "# Find the R^2\n",
        "print('The R-square is: ', lm.score(Z, df['price']))"
      ]
    },
    {
      "cell_type": "markdown",
      "metadata": {
        "id": "shBLqJmOiNcG"
      },
      "source": [
        "We can say that \\~80.896 % of the variation of price is explained by this multiple linear regression \"multi_fit\".\n"
      ]
    },
    {
      "cell_type": "markdown",
      "metadata": {
        "id": "3UhHlnvPiNcG"
      },
      "source": [
        "Let's calculate the MSE.\n"
      ]
    },
    {
      "cell_type": "markdown",
      "metadata": {
        "id": "vNGm3uASiNcG"
      },
      "source": [
        "We produce a prediction:\n"
      ]
    },
    {
      "cell_type": "code",
      "execution_count": 55,
      "metadata": {
        "id": "4zbsp3efiNcG"
      },
      "outputs": [],
      "source": [
        "Y_predict_multifit = lm.predict(Z)"
      ]
    },
    {
      "cell_type": "markdown",
      "metadata": {
        "id": "htPBvG-ciNcG"
      },
      "source": [
        "We compare the predicted results with the actual results:\n"
      ]
    },
    {
      "cell_type": "code",
      "execution_count": 56,
      "metadata": {
        "colab": {
          "base_uri": "https://localhost:8080/"
        },
        "id": "K0M6UbPpiNcG",
        "outputId": "6ce5d951-1524-450f-8778-d844621af5d4"
      },
      "outputs": [
        {
          "output_type": "stream",
          "name": "stdout",
          "text": [
            "The mean square error of price and predicted value using multifit is:  11980366.87072649\n"
          ]
        }
      ],
      "source": [
        "print('The mean square error of price and predicted value using multifit is: ', \\\n",
        "      mean_squared_error(df['price'], Y_predict_multifit))"
      ]
    },
    {
      "cell_type": "markdown",
      "metadata": {
        "id": "VPskuwXXiNcH"
      },
      "source": [
        "<h3>Model 3: Polynomial Fit</h3>\n"
      ]
    },
    {
      "cell_type": "markdown",
      "metadata": {
        "id": "RxLGDMnMiNcH"
      },
      "source": [
        "Let's calculate the R^2.\n"
      ]
    },
    {
      "cell_type": "markdown",
      "metadata": {
        "id": "0rsUuhx0iNcH"
      },
      "source": [
        "Let’s import the function <b>r2\\_score</b> from the module <b>metrics</b> as we are using a different function.\n"
      ]
    },
    {
      "cell_type": "code",
      "execution_count": 57,
      "metadata": {
        "id": "Oa5Yg9EYiNcH"
      },
      "outputs": [],
      "source": [
        "from sklearn.metrics import r2_score"
      ]
    },
    {
      "cell_type": "markdown",
      "metadata": {
        "id": "h-5nCv6kiNcH"
      },
      "source": [
        "We apply the function to get the value of R^2:\n"
      ]
    },
    {
      "cell_type": "code",
      "execution_count": 58,
      "metadata": {
        "colab": {
          "base_uri": "https://localhost:8080/"
        },
        "id": "IR7dRx-riNcI",
        "outputId": "3aa325ea-7cbf-4517-ac16-8d348e657367"
      },
      "outputs": [
        {
          "output_type": "stream",
          "name": "stdout",
          "text": [
            "The R-square value is:  0.674194666390652\n"
          ]
        }
      ],
      "source": [
        "r_squared = r2_score(y, p(x))\n",
        "print('The R-square value is: ', r_squared)"
      ]
    },
    {
      "cell_type": "markdown",
      "metadata": {
        "id": "3slkTqzriNcI"
      },
      "source": [
        "We can say that \\~67.419 % of the variation of price is explained by this polynomial fit.\n"
      ]
    },
    {
      "cell_type": "markdown",
      "metadata": {
        "id": "N6OQ_lB-iNcI"
      },
      "source": [
        "<h3>MSE</h3>\n"
      ]
    },
    {
      "cell_type": "markdown",
      "metadata": {
        "id": "riqSrfJtiNcI"
      },
      "source": [
        "We can also calculate the MSE:\n"
      ]
    },
    {
      "cell_type": "code",
      "execution_count": 59,
      "metadata": {
        "colab": {
          "base_uri": "https://localhost:8080/"
        },
        "id": "eu6NXCgLiNcI",
        "outputId": "2c1c29b9-06e6-4f25-8f31-f26171ea0a7b"
      },
      "outputs": [
        {
          "output_type": "execute_result",
          "data": {
            "text/plain": [
              "20474146.426361218"
            ]
          },
          "metadata": {},
          "execution_count": 59
        }
      ],
      "source": [
        "mean_squared_error(df['price'], p(x))"
      ]
    },
    {
      "cell_type": "markdown",
      "metadata": {
        "id": "Hdk4sEE-iNcI"
      },
      "source": [
        "<h2>5. Prediction and Decision Making</h2>\n",
        "<h3>Prediction</h3>\n",
        "\n",
        "<p>In the previous section, we trained the model using the method <b>fit</b>. Now we will use the method <b>predict</b> to produce a prediction. Lets import <b>pyplot</b> for plotting; we will also be using some functions from numpy.</p>\n"
      ]
    },
    {
      "cell_type": "code",
      "execution_count": 60,
      "metadata": {
        "id": "I-5ngLsxiNcI"
      },
      "outputs": [],
      "source": [
        "import matplotlib.pyplot as plt\n",
        "import numpy as np\n",
        "\n",
        "%matplotlib inline "
      ]
    },
    {
      "cell_type": "markdown",
      "metadata": {
        "id": "IWfl2Y6SiNcI"
      },
      "source": [
        "Create a new input:\n"
      ]
    },
    {
      "cell_type": "code",
      "execution_count": 61,
      "metadata": {
        "id": "Q9UNev6SiNcJ"
      },
      "outputs": [],
      "source": [
        "new_input=np.arange(1, 100, 1).reshape(-1, 1)"
      ]
    },
    {
      "cell_type": "markdown",
      "metadata": {
        "id": "NnXELozFiNcJ"
      },
      "source": [
        "Fit the model:\n"
      ]
    },
    {
      "cell_type": "code",
      "execution_count": 62,
      "metadata": {
        "colab": {
          "base_uri": "https://localhost:8080/"
        },
        "id": "pyzkkanxiNcJ",
        "outputId": "eeaf7503-c791-45e3-8fe4-960f0e14eddc"
      },
      "outputs": [
        {
          "output_type": "execute_result",
          "data": {
            "text/plain": [
              "LinearRegression()"
            ]
          },
          "metadata": {},
          "execution_count": 62
        }
      ],
      "source": [
        "lm.fit(X, Y)\n",
        "lm"
      ]
    },
    {
      "cell_type": "markdown",
      "metadata": {
        "id": "jN_h4906iNcJ"
      },
      "source": [
        "Produce a prediction:\n"
      ]
    },
    {
      "cell_type": "code",
      "execution_count": 63,
      "metadata": {
        "colab": {
          "base_uri": "https://localhost:8080/"
        },
        "id": "k2d1GuFIiNcJ",
        "outputId": "c7e764b5-29be-4f69-fc75-765b3537db69"
      },
      "outputs": [
        {
          "output_type": "stream",
          "name": "stderr",
          "text": [
            "/usr/local/lib/python3.8/dist-packages/sklearn/base.py:450: UserWarning: X does not have valid feature names, but LinearRegression was fitted with feature names\n",
            "  warnings.warn(\n"
          ]
        },
        {
          "output_type": "execute_result",
          "data": {
            "text/plain": [
              "array([37601.57247984, 36779.83910151, 35958.10572319, 35136.37234487,\n",
              "       34314.63896655])"
            ]
          },
          "metadata": {},
          "execution_count": 63
        }
      ],
      "source": [
        "yhat=lm.predict(new_input)\n",
        "yhat[0:5]"
      ]
    },
    {
      "cell_type": "markdown",
      "metadata": {
        "id": "MtgX4AM_iNcJ"
      },
      "source": [
        "We can plot the data:\n"
      ]
    },
    {
      "cell_type": "code",
      "execution_count": 64,
      "metadata": {
        "colab": {
          "base_uri": "https://localhost:8080/",
          "height": 265
        },
        "id": "p0ZpeiXuiNcJ",
        "outputId": "c2a104e4-c26d-4e26-97ef-cfaba50e5429"
      },
      "outputs": [
        {
          "output_type": "display_data",
          "data": {
            "text/plain": [
              "<Figure size 432x288 with 1 Axes>"
            ],
            "image/png": "[encoded data removed]"
          },
          "metadata": {
            "needs_background": "light"
          }
        }
      ],
      "source": [
        "plt.plot(new_input, yhat)\n",
        "plt.show()"
      ]
    },
    {
      "cell_type": "markdown",
      "metadata": {
        "id": "SVx3s9TZiNcJ"
      },
      "source": [
        "<h3>Decision Making: Determining a Good Model Fit</h3>\n"
      ]
    },
    {
      "cell_type": "markdown",
      "metadata": {
        "id": "7pyMMxFUiNcJ"
      },
      "source": [
        "<p>Now that we have visualized the different models, and generated the R-squared and MSE values for the fits, how do we determine a good model fit?\n",
        "<ul>\n",
        "    <li><i>What is a good R-squared value?</i></li>\n",
        "</ul>\n",
        "</p>\n",
        "\n",
        "<p>When comparing models, <b>the model with the higher R-squared value is a better fit</b> for the data.\n",
        "<ul>\n",
        "    <li><i>What is a good MSE?</i></li>\n",
        "</ul>\n",
        "</p>\n",
        "\n",
        "<p>When comparing models, <b>the model with the smallest MSE value is a better fit</b> for the data.</p>\n",
        "\n",
        "<h4>Let's take a look at the values for the different models.</h4>\n",
        "<p>Simple Linear Regression: Using Highway-mpg as a Predictor Variable of Price.\n",
        "<ul>\n",
        "    <li>R-squared: 0.49659118843391759</li>\n",
        "    <li>MSE: 3.16 x10^7</li>\n",
        "</ul>\n",
        "</p>\n",
        "\n",
        "<p>Multiple Linear Regression: Using Horsepower, Curb-weight, Engine-size, and Highway-mpg as Predictor Variables of Price.\n",
        "<ul>\n",
        "    <li>R-squared: 0.80896354913783497</li>\n",
        "    <li>MSE: 1.2 x10^7</li>\n",
        "</ul>\n",
        "</p>\n",
        "\n",
        "<p>Polynomial Fit: Using Highway-mpg as a Predictor Variable of Price.\n",
        "<ul>\n",
        "    <li>R-squared: 0.6741946663906514</li>\n",
        "    <li>MSE: 2.05 x 10^7</li>\n",
        "</ul>\n",
        "</p>\n"
      ]
    },
    {
      "cell_type": "markdown",
      "metadata": {
        "id": "dZn8Jn1EiNcK"
      },
      "source": [
        "<h3>Simple Linear Regression Model (SLR) vs Multiple Linear Regression Model (MLR)</h3>\n"
      ]
    },
    {
      "cell_type": "markdown",
      "metadata": {
        "id": "dhir2KS4iNcK"
      },
      "source": [
        "<p>Usually, the more variables you have, the better your model is at predicting, but this is not always true. Sometimes you may not have enough data, you may run into numerical problems, or many of the variables may not be useful and even act as noise. As a result, you should always check the MSE and R^2.</p>\n",
        "\n",
        "<p>In order to compare the results of the MLR vs SLR models, we look at a combination of both the R-squared and MSE to make the best conclusion about the fit of the model.\n",
        "<ul>\n",
        "    <li><b>MSE</b>: The MSE of SLR is  3.16x10^7  while MLR has an MSE of 1.2 x10^7.  The MSE of MLR is much smaller.</li>\n",
        "    <li><b>R-squared</b>: In this case, we can also see that there is a big difference between the R-squared of the SLR and the R-squared of the MLR. The R-squared for the SLR (~0.497) is very small compared to the R-squared for the MLR (~0.809).</li>\n",
        "</ul>\n",
        "</p>\n",
        "\n",
        "This R-squared in combination with the MSE show that MLR seems like the better model fit in this case compared to SLR.\n"
      ]
    },
    {
      "cell_type": "markdown",
      "metadata": {
        "id": "K7-CKV-eiNcK"
      },
      "source": [
        "<h3>Simple Linear Model (SLR) vs. Polynomial Fit</h3>\n"
      ]
    },
    {
      "cell_type": "markdown",
      "metadata": {
        "id": "qKNVJ6tQiNcK"
      },
      "source": [
        "<ul>\n",
        "    <li><b>MSE</b>: We can see that Polynomial Fit brought down the MSE, since this MSE is smaller than the one from the SLR.</li> \n",
        "    <li><b>R-squared</b>: The R-squared for the Polynomial Fit is larger than the R-squared for the SLR, so the Polynomial Fit also brought up the R-squared quite a bit.</li>\n",
        "</ul>\n",
        "<p>Since the Polynomial Fit resulted in a lower MSE and a higher R-squared, we can conclude that this was a better fit model than the simple linear regression for predicting \"price\" with \"highway-mpg\" as a predictor variable.</p>\n"
      ]
    },
    {
      "cell_type": "markdown",
      "metadata": {
        "id": "HZMU0zGIiNcK"
      },
      "source": [
        "<h3>Multiple Linear Regression (MLR) vs. Polynomial Fit</h3>\n"
      ]
    },
    {
      "cell_type": "markdown",
      "metadata": {
        "id": "i2HyZ8wCiNcK"
      },
      "source": [
        "<ul>\n",
        "    <li><b>MSE</b>: The MSE for the MLR is smaller than the MSE for the Polynomial Fit.</li>\n",
        "    <li><b>R-squared</b>: The R-squared for the MLR is also much larger than for the Polynomial Fit.</li>\n",
        "</ul>\n"
      ]
    },
    {
      "cell_type": "markdown",
      "metadata": {
        "id": "uqRrZVfSiNcK"
      },
      "source": [
        "<h2>Conclusion</h2>\n"
      ]
    },
    {
      "cell_type": "markdown",
      "metadata": {
        "id": "O7YuBM_LiNcK"
      },
      "source": [
        "<p>Comparing these three models, we conclude that <b>the MLR model is the best model</b> to be able to predict price from our dataset. This result makes sense since we have 27 variables in total and we know that more than one of those variables are potential predictors of the final car price.</p>\n"
      ]
    },
    {
      "cell_type": "markdown",
      "metadata": {
        "id": "zL0lRxeuiNcK"
      },
      "source": [
        "### Thank you for completing this lab!\n",
        "\n",
        "## Author\n",
        "\n",
        "<a href=\"https://www.linkedin.com/in/joseph-s-50398b136/?utm_medium=Exinfluencer&utm_source=Exinfluencer&utm_content=000026UJ&utm_term=10006555&utm_id=NA-SkillsNetwork-Channel-SkillsNetworkCoursesIBMDeveloperSkillsNetworkDA0101ENSkillsNetwork20235326-2022-01-01\" target=\"_blank\">Joseph Santarcangelo</a>\n",
        "\n",
        "### Other Contributors\n",
        "\n",
        "<a href=\"https://www.linkedin.com/in/mahdi-noorian-58219234/?utm_medium=Exinfluencer&utm_source=Exinfluencer&utm_content=000026UJ&utm_term=10006555&utm_id=NA-SkillsNetwork-Channel-SkillsNetworkCoursesIBMDeveloperSkillsNetworkDA0101ENSkillsNetwork20235326-2022-01-01\" target=\"_blank\">Mahdi Noorian PhD</a>\n",
        "\n",
        "Bahare Talayian\n",
        "\n",
        "Eric Xiao\n",
        "\n",
        "Steven Dong\n",
        "\n",
        "Parizad\n",
        "\n",
        "Hima Vasudevan\n",
        "\n",
        "<a href=\"https://www.linkedin.com/in/fiorellawever/?utm_medium=Exinfluencer&utm_source=Exinfluencer&utm_content=000026UJ&utm_term=10006555&utm_id=NA-SkillsNetwork-Channel-SkillsNetworkCoursesIBMDeveloperSkillsNetworkDA0101ENSkillsNetwork20235326-2022-01-01\" target=\"_blank\">Fiorella Wenver</a>\n",
        "\n",
        "<a href=\"https:// https://www.linkedin.com/in/yi-leng-yao-84451275/ \" target=\"_blank\" >Yi Yao</a>.\n",
        "\n",
        "## Change Log\n",
        "\n",
        "| Date (YYYY-MM-DD) | Version | Changed By | Change Description                            |\n",
        "| ----------------- | ------- | ---------- | --------------------------------------------- |\n",
        "| 2020-10-30        | 2.2     | Lakshmi    | Changed url of csv                            |\n",
        "| 2020-09-09        | 2.1     | Lakshmi    | Fixes made in Polynomial Regression Equations |\n",
        "| 2020-08-27        | 2.0     | Lavanya    | Moved lab to course repo in GitLab            |\n",
        "\n",
        "<hr>\n",
        "\n",
        "## <h3 align=\"center\"> © IBM Corporation 2020. All rights reserved. <h3/>\n"
      ]
    }
  ],
  "metadata": {
    "kernelspec": {
      "display_name": "Python 3",
      "language": "python",
      "name": "python3"
    },
    "language_info": {
      "codemirror_mode": {
        "name": "ipython",
        "version": 3
      },
      "file_extension": ".py",
      "mimetype": "text/x-python",
      "name": "python",
      "nbconvert_exporter": "python",
      "pygments_lexer": "ipython3",
      "version": "3.8.8"
    },
    "colab": {
      "provenance": []
    }
  },
  "nbformat": 4,
  "nbformat_minor": 0
}