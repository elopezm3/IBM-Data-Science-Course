{
  "cells": [
    {
      "cell_type": "markdown",
      "metadata": {
        "id": "tpqHvk3_pNcp"
      },
      "source": [
        "<p style=\"text-align:center\">\n",
        "    <a href=\"https://skills.network/?utm_medium=Exinfluencer&utm_source=Exinfluencer&utm_content=000026UJ&utm_term=10006555&utm_id=NA-SkillsNetwork-Channel-SkillsNetworkCoursesIBMDeveloperSkillsNetworkPY0101ENSkillsNetwork19487395-2022-01-01\" target=\"_blank\">\n",
        "    <img src=\"https://cf-courses-data.s3.us.cloud-object-storage.appdomain.cloud/assets/logos/SN_web_lightmode.png\" width=\"200\" alt=\"Skills Network Logo\"  />\n",
        "    </a>\n",
        "</p>\n",
        "\n",
        "# 2D Numpy in Python\n",
        "\n",
        "Estimated time needed: **20** minutes\n",
        "\n",
        "## Objectives\n",
        "\n",
        "After completing this lab you will be able to:\n",
        "\n",
        "*   Operate comfortably with `numpy`\n",
        "*   Perform complex operations with `numpy`\n"
      ]
    },
    {
      "cell_type": "markdown",
      "metadata": {
        "id": "guOD03crpNcq"
      },
      "source": [
        "<h2>Table of Contents</h2>\n",
        "<div class=\"alert alert-block alert-info\" style=\"margin-thttps://op/?utm_medium=Exinfluencer&utm_source=Exinfluencer&utm_content=000026UJ&utm_term=10006555&utm_id=NA-SkillsNetwork-Channel-SkillsNetworkCoursesIBMDeveloperSkillsNetworkPY0101ENSkillsNetwork19487395-2022-01-01: 20px\">\n",
        "    <ul>\n",
        "        <li><a href=\"https://create/?utm_medium=Exinfluencer&utm_source=Exinfluencer&utm_content=000026UJ&utm_term=10006555&utm_id=NA-SkillsNetwork-Channel-SkillsNetworkCoursesIBMDeveloperSkillsNetworkPY0101ENSkillsNetwork19487395-2022-01-01\">Create a 2D Numpy Array</a></li>\n",
        "        <li><a href=\"https://access/?utm_medium=Exinfluencer&utm_source=Exinfluencer&utm_content=000026UJ&utm_term=10006555&utm_id=NA-SkillsNetwork-Channel-SkillsNetworkCoursesIBMDeveloperSkillsNetworkPY0101ENSkillsNetwork19487395-2022-01-01\">Accessing different elements of a Numpy Array</a></li>\n",
        "        <li><a href=\"op\">Basic Operations</a></li>\n",
        "    </ul>\n",
        "\n",
        "</div>\n",
        "\n",
        "<hr>\n"
      ]
    },
    {
      "cell_type": "markdown",
      "metadata": {
        "id": "WCFnZsezpNcr"
      },
      "source": [
        "<h2 id=\"create\">Create a 2D Numpy Array</h2>\n"
      ]
    },
    {
      "cell_type": "code",
      "execution_count": 1,
      "metadata": {
        "id": "jtlty1TcpNcr"
      },
      "outputs": [],
      "source": [
        "# Import the libraries\n",
        "\n",
        "import numpy as np \n",
        "import matplotlib.pyplot as plt"
      ]
    },
    {
      "cell_type": "markdown",
      "metadata": {
        "id": "RgC9eGyepNcs"
      },
      "source": [
        "Consider the list <code>a</code>, which contains three nested lists **each of equal size**.\n"
      ]
    },
    {
      "cell_type": "code",
      "execution_count": 2,
      "metadata": {
        "colab": {
          "base_uri": "https://localhost:8080/"
        },
        "id": "yNafJMXgpNcs",
        "outputId": "1cfa4d30-f3bd-4e89-cd3a-78e1d85b93fd"
      },
      "outputs": [
        {
          "output_type": "execute_result",
          "data": {
            "text/plain": [
              "[[11, 12, 13], [21, 22, 23], [31, 32, 33]]"
            ]
          },
          "metadata": {},
          "execution_count": 2
        }
      ],
      "source": [
        "# Create a list\n",
        "\n",
        "a = [[11, 12, 13], [21, 22, 23], [31, 32, 33]]\n",
        "a"
      ]
    },
    {
      "cell_type": "markdown",
      "metadata": {
        "id": "p-oZ0Lp3pNct"
      },
      "source": [
        "We can cast the list to a Numpy Array as follows:\n"
      ]
    },
    {
      "cell_type": "code",
      "execution_count": 3,
      "metadata": {
        "colab": {
          "base_uri": "https://localhost:8080/"
        },
        "id": "efsgkPMkpNct",
        "outputId": "b2292b55-75d3-482c-dbc2-0d7ffeb1476a"
      },
      "outputs": [
        {
          "output_type": "execute_result",
          "data": {
            "text/plain": [
              "array([[11, 12, 13],\n",
              "       [21, 22, 23],\n",
              "       [31, 32, 33]])"
            ]
          },
          "metadata": {},
          "execution_count": 3
        }
      ],
      "source": [
        "# Convert list to Numpy Array\n",
        "# Every element is the same type\n",
        "\n",
        "A = np.array(a)\n",
        "A"
      ]
    },
    {
      "cell_type": "markdown",
      "metadata": {
        "id": "rFF2_zglpNct"
      },
      "source": [
        "We can use the attribute <code>ndim</code> to obtain the number of axes or dimensions, referred to as the rank.\n"
      ]
    },
    {
      "cell_type": "code",
      "execution_count": 4,
      "metadata": {
        "colab": {
          "base_uri": "https://localhost:8080/"
        },
        "id": "QyRs0OqqpNct",
        "outputId": "2acc8e55-6640-4b9b-b7d0-82409d455aaf"
      },
      "outputs": [
        {
          "output_type": "execute_result",
          "data": {
            "text/plain": [
              "2"
            ]
          },
          "metadata": {},
          "execution_count": 4
        }
      ],
      "source": [
        "# Show the numpy array dimensions\n",
        "\n",
        "A.ndim"
      ]
    },
    {
      "cell_type": "markdown",
      "metadata": {
        "id": "7r2WnRLBpNcu"
      },
      "source": [
        "Attribute <code>shape</code> returns a tuple corresponding to the size or number of each dimension.\n"
      ]
    },
    {
      "cell_type": "code",
      "execution_count": 5,
      "metadata": {
        "colab": {
          "base_uri": "https://localhost:8080/"
        },
        "id": "J21xkQKRpNcu",
        "outputId": "cae1482c-cc3e-423a-d4de-3577f7c6cdaa"
      },
      "outputs": [
        {
          "output_type": "execute_result",
          "data": {
            "text/plain": [
              "(3, 3)"
            ]
          },
          "metadata": {},
          "execution_count": 5
        }
      ],
      "source": [
        "# Show the numpy array shape\n",
        "\n",
        "A.shape"
      ]
    },
    {
      "cell_type": "markdown",
      "metadata": {
        "id": "gOhdsaDOpNcu"
      },
      "source": [
        "The total number of elements in the array is given by the attribute <code>size</code>.\n"
      ]
    },
    {
      "cell_type": "code",
      "execution_count": 6,
      "metadata": {
        "colab": {
          "base_uri": "https://localhost:8080/"
        },
        "id": "s8twUUO-pNcu",
        "outputId": "90b1dea7-cdcd-4429-8abb-4756b5b6f2d1"
      },
      "outputs": [
        {
          "output_type": "execute_result",
          "data": {
            "text/plain": [
              "9"
            ]
          },
          "metadata": {},
          "execution_count": 6
        }
      ],
      "source": [
        "# Show the numpy array size\n",
        "\n",
        "A.size"
      ]
    },
    {
      "cell_type": "markdown",
      "metadata": {
        "id": "aVqmARllpNcu"
      },
      "source": [
        "<hr>\n"
      ]
    },
    {
      "cell_type": "markdown",
      "metadata": {
        "id": "NcjTfgaIpNcu"
      },
      "source": [
        "<h2 id=\"access\">Accessing different elements of a Numpy Array</h2>\n"
      ]
    },
    {
      "cell_type": "markdown",
      "metadata": {
        "id": "Gv5lBoYtpNcv"
      },
      "source": [
        "We can use rectangular brackets to access the different elements of the array. The correspondence between the rectangular brackets and the list and the rectangular representation is shown in the following figure for a 3x3 array:\n"
      ]
    },
    {
      "cell_type": "markdown",
      "metadata": {
        "id": "4QK8eraEpNcv"
      },
      "source": [
        "<img src=\"https://cf-courses-data.s3.us.cloud-object-storage.appdomain.cloud/IBMDeveloperSkillsNetwork-PY0101EN-SkillsNetwork/labs/Module%205/images/NumTwoEg.png\" width=\"500\" />\n"
      ]
    },
    {
      "cell_type": "markdown",
      "metadata": {
        "id": "q4e4Xu_bpNcv"
      },
      "source": [
        "We can access the 2nd-row, 3rd column as shown in the following figure:\n"
      ]
    },
    {
      "cell_type": "markdown",
      "metadata": {
        "id": "OXpWiIj-pNcv"
      },
      "source": [
        "<img src=\"https://cf-courses-data.s3.us.cloud-object-storage.appdomain.cloud/IBMDeveloperSkillsNetwork-PY0101EN-SkillsNetwork/labs/Module%205/images/NumTwoFT.png\" width=\"400\" />\n"
      ]
    },
    {
      "cell_type": "markdown",
      "metadata": {
        "id": "WwdJBdHxpNcv"
      },
      "source": [
        "We simply use the square brackets and the indices corresponding to the element we would like:\n"
      ]
    },
    {
      "cell_type": "code",
      "execution_count": 7,
      "metadata": {
        "colab": {
          "base_uri": "https://localhost:8080/"
        },
        "id": "6z-BgdNkpNcv",
        "outputId": "29a8dbb8-df24-4ce1-e40a-2e7532a92192"
      },
      "outputs": [
        {
          "output_type": "execute_result",
          "data": {
            "text/plain": [
              "23"
            ]
          },
          "metadata": {},
          "execution_count": 7
        }
      ],
      "source": [
        "# Access the element on the second row and third column\n",
        "\n",
        "A[1, 2]"
      ]
    },
    {
      "cell_type": "markdown",
      "metadata": {
        "id": "eQqW8FKqpNcv"
      },
      "source": [
        "We can also use the following notation to obtain the elements:\n"
      ]
    },
    {
      "cell_type": "code",
      "execution_count": 8,
      "metadata": {
        "colab": {
          "base_uri": "https://localhost:8080/"
        },
        "id": "x9vUd51_pNcw",
        "outputId": "ad7e242f-3c37-4b55-9c59-44d338d2c6f2"
      },
      "outputs": [
        {
          "output_type": "execute_result",
          "data": {
            "text/plain": [
              "23"
            ]
          },
          "metadata": {},
          "execution_count": 8
        }
      ],
      "source": [
        "# Access the element on the second row and third column\n",
        "\n",
        "A[1][2]"
      ]
    },
    {
      "cell_type": "markdown",
      "metadata": {
        "id": "Cjfkq-2dpNcw"
      },
      "source": [
        "Consider the elements shown in the following figure\n"
      ]
    },
    {
      "cell_type": "markdown",
      "metadata": {
        "id": "G6_hTIKVpNcw"
      },
      "source": [
        "<img src=\"https://cf-courses-data.s3.us.cloud-object-storage.appdomain.cloud/IBMDeveloperSkillsNetwork-PY0101EN-SkillsNetwork/labs/Module%205/images/NumTwoFF.png\" width=\"400\" />\n"
      ]
    },
    {
      "cell_type": "markdown",
      "metadata": {
        "id": "z6LEOVBxpNcw"
      },
      "source": [
        "We can access the element as follows:\n"
      ]
    },
    {
      "cell_type": "code",
      "execution_count": 9,
      "metadata": {
        "colab": {
          "base_uri": "https://localhost:8080/"
        },
        "id": "rn9XwB_apNcw",
        "outputId": "6329debb-0a12-4c43-b267-ee6b766f7a05"
      },
      "outputs": [
        {
          "output_type": "execute_result",
          "data": {
            "text/plain": [
              "11"
            ]
          },
          "metadata": {},
          "execution_count": 9
        }
      ],
      "source": [
        "# Access the element on the first row and first column\n",
        "\n",
        "A[0][0]"
      ]
    },
    {
      "cell_type": "markdown",
      "metadata": {
        "id": "-HdHLDxxpNcw"
      },
      "source": [
        "We can also use slicing in numpy arrays. Consider the following figure. We would like to obtain the first two columns in the first row\n"
      ]
    },
    {
      "cell_type": "markdown",
      "metadata": {
        "id": "EEcAxjp0pNcx"
      },
      "source": [
        "<img src=\"https://cf-courses-data.s3.us.cloud-object-storage.appdomain.cloud/IBMDeveloperSkillsNetwork-PY0101EN-SkillsNetwork/labs/Module%205/images/NumTwoFSF.png\" width=\"400\" />\n"
      ]
    },
    {
      "cell_type": "markdown",
      "metadata": {
        "id": "eRpnIG7JpNcx"
      },
      "source": [
        "This can be done with the following syntax:\n"
      ]
    },
    {
      "cell_type": "code",
      "execution_count": 10,
      "metadata": {
        "colab": {
          "base_uri": "https://localhost:8080/"
        },
        "id": "_P46maJ5pNcx",
        "outputId": "dd3f7d6a-7615-4678-dffe-2c8cfe9b022e"
      },
      "outputs": [
        {
          "output_type": "execute_result",
          "data": {
            "text/plain": [
              "array([11, 12])"
            ]
          },
          "metadata": {},
          "execution_count": 10
        }
      ],
      "source": [
        "# Access the element on the first row and first and second columns\n",
        "\n",
        "A[0][0:2]"
      ]
    },
    {
      "cell_type": "markdown",
      "metadata": {
        "id": "BoGAOy56pNcx"
      },
      "source": [
        "Similarly, we can obtain the first two rows of the 3rd column as follows:\n"
      ]
    },
    {
      "cell_type": "code",
      "execution_count": 11,
      "metadata": {
        "colab": {
          "base_uri": "https://localhost:8080/"
        },
        "id": "diF_FLg3pNcx",
        "outputId": "3431eac3-ab59-4bcd-e344-470e0655e697"
      },
      "outputs": [
        {
          "output_type": "execute_result",
          "data": {
            "text/plain": [
              "array([13, 23])"
            ]
          },
          "metadata": {},
          "execution_count": 11
        }
      ],
      "source": [
        "# Access the element on the first and second rows and third column\n",
        "\n",
        "A[0:2, 2]"
      ]
    },
    {
      "cell_type": "markdown",
      "metadata": {
        "id": "lZEI0r-QpNcx"
      },
      "source": [
        "Corresponding to the following figure:\n"
      ]
    },
    {
      "cell_type": "markdown",
      "metadata": {
        "id": "r7FI9Su9pNcy"
      },
      "source": [
        "<img src=\"https://cf-courses-data.s3.us.cloud-object-storage.appdomain.cloud/IBMDeveloperSkillsNetwork-PY0101EN-SkillsNetwork/labs/Module%205/images/2D_numpy.png\" width=\"550\"><br />\n"
      ]
    },
    {
      "cell_type": "markdown",
      "metadata": {
        "id": "SSE0iinupNcy"
      },
      "source": [
        "<h2 id=\"op\">Basic Operations</h2>\n"
      ]
    },
    {
      "cell_type": "markdown",
      "metadata": {
        "id": "gli-1Vk8pNcy"
      },
      "source": [
        "We can also add arrays. The process is identical to matrix addition. Matrix addition of <code>X</code> and <code>Y</code> is shown in the following figure:\n"
      ]
    },
    {
      "cell_type": "markdown",
      "metadata": {
        "id": "Lo5LjQQCpNcy"
      },
      "source": [
        "<img src=\"https://cf-courses-data.s3.us.cloud-object-storage.appdomain.cloud/IBMDeveloperSkillsNetwork-PY0101EN-SkillsNetwork/labs/Module%205/images/NumTwoAdd.png\" width=\"500\" />\n"
      ]
    },
    {
      "cell_type": "markdown",
      "metadata": {
        "id": "bEiufbUnpNcy"
      },
      "source": [
        "The numpy array is given by <code>X</code> and <code>Y</code>\n"
      ]
    },
    {
      "cell_type": "code",
      "execution_count": 12,
      "metadata": {
        "colab": {
          "base_uri": "https://localhost:8080/"
        },
        "id": "LRskP83jpNcy",
        "outputId": "49198e32-e8e1-468f-98d9-a1941c6b0f6d"
      },
      "outputs": [
        {
          "output_type": "execute_result",
          "data": {
            "text/plain": [
              "array([[1, 0],\n",
              "       [0, 1]])"
            ]
          },
          "metadata": {},
          "execution_count": 12
        }
      ],
      "source": [
        "# Create a numpy array X\n",
        "\n",
        "X = np.array([[1, 0], [0, 1]]) \n",
        "X"
      ]
    },
    {
      "cell_type": "code",
      "execution_count": 13,
      "metadata": {
        "colab": {
          "base_uri": "https://localhost:8080/"
        },
        "id": "ogme95_MpNcy",
        "outputId": "1bdb0d99-c17d-4c98-f755-272987e5cade"
      },
      "outputs": [
        {
          "output_type": "execute_result",
          "data": {
            "text/plain": [
              "array([[2, 1],\n",
              "       [1, 2]])"
            ]
          },
          "metadata": {},
          "execution_count": 13
        }
      ],
      "source": [
        "# Create a numpy array Y\n",
        "\n",
        "Y = np.array([[2, 1], [1, 2]]) \n",
        "Y"
      ]
    },
    {
      "cell_type": "markdown",
      "metadata": {
        "id": "gsps8kv5pNcz"
      },
      "source": [
        "We can add the numpy arrays as follows.\n"
      ]
    },
    {
      "cell_type": "code",
      "execution_count": 14,
      "metadata": {
        "colab": {
          "base_uri": "https://localhost:8080/"
        },
        "id": "fLH3Kq8npNcz",
        "outputId": "f3ee591d-8502-4f26-be88-a15e245f8542"
      },
      "outputs": [
        {
          "output_type": "execute_result",
          "data": {
            "text/plain": [
              "array([[3, 1],\n",
              "       [1, 3]])"
            ]
          },
          "metadata": {},
          "execution_count": 14
        }
      ],
      "source": [
        "# Add X and Y\n",
        "\n",
        "Z = X + Y\n",
        "Z"
      ]
    },
    {
      "cell_type": "markdown",
      "metadata": {
        "id": "tF6iINDPpNcz"
      },
      "source": [
        "Multiplying a numpy array by a scaler is identical to multiplying a matrix by a scaler. If we multiply the matrix <code>Y</code> by the scaler 2, we simply multiply every element in the matrix by 2, as shown in the figure.\n"
      ]
    },
    {
      "cell_type": "markdown",
      "metadata": {
        "id": "jNAkhDNTpNcz"
      },
      "source": [
        "<img src=\"https://cf-courses-data.s3.us.cloud-object-storage.appdomain.cloud/IBMDeveloperSkillsNetwork-PY0101EN-SkillsNetwork/labs/Module%205/images/NumTwoDb.png\" width=\"500\" />\n"
      ]
    },
    {
      "cell_type": "markdown",
      "metadata": {
        "id": "1s1hF_ITpNcz"
      },
      "source": [
        "We can perform the same operation in numpy as follows\n"
      ]
    },
    {
      "cell_type": "code",
      "execution_count": 15,
      "metadata": {
        "colab": {
          "base_uri": "https://localhost:8080/"
        },
        "id": "4Sl_qu_vpNcz",
        "outputId": "b4bafb89-b7a9-4751-c10a-d6ad73a16de6"
      },
      "outputs": [
        {
          "output_type": "execute_result",
          "data": {
            "text/plain": [
              "array([[2, 1],\n",
              "       [1, 2]])"
            ]
          },
          "metadata": {},
          "execution_count": 15
        }
      ],
      "source": [
        "# Create a numpy array Y\n",
        "\n",
        "Y = np.array([[2, 1], [1, 2]]) \n",
        "Y"
      ]
    },
    {
      "cell_type": "code",
      "execution_count": 16,
      "metadata": {
        "colab": {
          "base_uri": "https://localhost:8080/"
        },
        "id": "rfAHommbpNcz",
        "outputId": "7db396d0-523c-45ed-f4fe-4403f5856848"
      },
      "outputs": [
        {
          "output_type": "execute_result",
          "data": {
            "text/plain": [
              "array([[4, 2],\n",
              "       [2, 4]])"
            ]
          },
          "metadata": {},
          "execution_count": 16
        }
      ],
      "source": [
        "# Multiply Y with 2\n",
        "\n",
        "Z = 2 * Y\n",
        "Z"
      ]
    },
    {
      "cell_type": "markdown",
      "metadata": {
        "id": "RUQZH9MvpNcz"
      },
      "source": [
        "Multiplication of two arrays corresponds to an element-wise product or <em>Hadamard product</em>. Consider matrix <code>X</code> and <code>Y</code>. The Hadamard product corresponds to multiplying each of the elements in the same position, i.e. multiplying elements contained in the same color boxes together. The result is a new matrix that is the same size as matrix <code>Y</code> or <code>X</code>, as shown in the following figure.\n"
      ]
    },
    {
      "cell_type": "markdown",
      "metadata": {
        "id": "ux2WPgYupNc0"
      },
      "source": [
        "<img src=\"https://cf-courses-data.s3.us.cloud-object-storage.appdomain.cloud/IBMDeveloperSkillsNetwork-PY0101EN-SkillsNetwork/labs/Module%205/images/NumTwoMul.png\" width=\"500\" />\n"
      ]
    },
    {
      "cell_type": "markdown",
      "metadata": {
        "id": "j4B6Xq__pNc0"
      },
      "source": [
        "We can perform element-wise product of the array <code>X</code> and <code>Y</code> as follows:\n"
      ]
    },
    {
      "cell_type": "code",
      "execution_count": 17,
      "metadata": {
        "colab": {
          "base_uri": "https://localhost:8080/"
        },
        "id": "p8W8GcgFpNc0",
        "outputId": "ea52ef58-33e9-4dbc-dadf-14a6a11f1f9b"
      },
      "outputs": [
        {
          "output_type": "execute_result",
          "data": {
            "text/plain": [
              "array([[2, 1],\n",
              "       [1, 2]])"
            ]
          },
          "metadata": {},
          "execution_count": 17
        }
      ],
      "source": [
        "# Create a numpy array Y\n",
        "\n",
        "Y = np.array([[2, 1], [1, 2]]) \n",
        "Y"
      ]
    },
    {
      "cell_type": "code",
      "execution_count": 18,
      "metadata": {
        "colab": {
          "base_uri": "https://localhost:8080/"
        },
        "id": "X5Uc8QaGpNc0",
        "outputId": "0e879236-e728-44b0-a448-3dfb8af215ce"
      },
      "outputs": [
        {
          "output_type": "execute_result",
          "data": {
            "text/plain": [
              "array([[1, 0],\n",
              "       [0, 1]])"
            ]
          },
          "metadata": {},
          "execution_count": 18
        }
      ],
      "source": [
        "# Create a numpy array X\n",
        "\n",
        "X = np.array([[1, 0], [0, 1]]) \n",
        "X"
      ]
    },
    {
      "cell_type": "code",
      "execution_count": 19,
      "metadata": {
        "colab": {
          "base_uri": "https://localhost:8080/"
        },
        "id": "3OQ0lfntpNc0",
        "outputId": "d4fe9c6d-74bd-426d-9c13-9adae762d16b"
      },
      "outputs": [
        {
          "output_type": "execute_result",
          "data": {
            "text/plain": [
              "array([[2, 0],\n",
              "       [0, 2]])"
            ]
          },
          "metadata": {},
          "execution_count": 19
        }
      ],
      "source": [
        "# Multiply X with Y\n",
        "\n",
        "Z = X * Y\n",
        "Z"
      ]
    },
    {
      "cell_type": "markdown",
      "metadata": {
        "id": "TVOQXlG1pNc0"
      },
      "source": [
        "We can also perform matrix multiplication with the numpy arrays <code>A</code> and <code>B</code> as follows:\n"
      ]
    },
    {
      "cell_type": "markdown",
      "metadata": {
        "id": "u_LoY6tXpNc0"
      },
      "source": [
        "First, we define matrix <code>A</code> and <code>B</code>:\n"
      ]
    },
    {
      "cell_type": "code",
      "execution_count": 20,
      "metadata": {
        "colab": {
          "base_uri": "https://localhost:8080/"
        },
        "id": "TObsPUg8pNc0",
        "outputId": "5f33a63b-61a1-416a-e95e-391fd265a643"
      },
      "outputs": [
        {
          "output_type": "execute_result",
          "data": {
            "text/plain": [
              "array([[0, 1, 1],\n",
              "       [1, 0, 1]])"
            ]
          },
          "metadata": {},
          "execution_count": 20
        }
      ],
      "source": [
        "# Create a matrix A\n",
        "\n",
        "A = np.array([[0, 1, 1], [1, 0, 1]])\n",
        "A"
      ]
    },
    {
      "cell_type": "code",
      "execution_count": 21,
      "metadata": {
        "colab": {
          "base_uri": "https://localhost:8080/"
        },
        "id": "leuRrPZVpNc1",
        "outputId": "e4c214c3-2f19-4097-d379-29d9b37e55a3"
      },
      "outputs": [
        {
          "output_type": "execute_result",
          "data": {
            "text/plain": [
              "array([[ 1,  1],\n",
              "       [ 1,  1],\n",
              "       [-1,  1]])"
            ]
          },
          "metadata": {},
          "execution_count": 21
        }
      ],
      "source": [
        "# Create a matrix B\n",
        "\n",
        "B = np.array([[1, 1], [1, 1], [-1, 1]])\n",
        "B"
      ]
    },
    {
      "cell_type": "markdown",
      "metadata": {
        "id": "jBc2nwhdpNc1"
      },
      "source": [
        "We use the numpy function <code>dot</code> to multiply the arrays together.\n"
      ]
    },
    {
      "cell_type": "code",
      "execution_count": 22,
      "metadata": {
        "colab": {
          "base_uri": "https://localhost:8080/"
        },
        "id": "eYBazUeWpNc1",
        "outputId": "c8958391-4aa6-412b-eaeb-e8f59e16c943"
      },
      "outputs": [
        {
          "output_type": "execute_result",
          "data": {
            "text/plain": [
              "array([[0, 2],\n",
              "       [0, 2]])"
            ]
          },
          "metadata": {},
          "execution_count": 22
        }
      ],
      "source": [
        "# Calculate the dot product\n",
        "\n",
        "Z = np.dot(A,B)\n",
        "Z"
      ]
    },
    {
      "cell_type": "code",
      "execution_count": 23,
      "metadata": {
        "colab": {
          "base_uri": "https://localhost:8080/"
        },
        "id": "XjxPI4bSpNc1",
        "outputId": "f23a3b12-de61-4288-c79d-9c6d55cc6a62"
      },
      "outputs": [
        {
          "output_type": "execute_result",
          "data": {
            "text/plain": [
              "array([[0.        , 0.90929743],\n",
              "       [0.        , 0.90929743]])"
            ]
          },
          "metadata": {},
          "execution_count": 23
        }
      ],
      "source": [
        "# Calculate the sine of Z\n",
        "\n",
        "np.sin(Z)"
      ]
    },
    {
      "cell_type": "markdown",
      "metadata": {
        "id": "L2_ftb0OpNc1"
      },
      "source": [
        "We use the numpy attribute <code>T</code> to calculate the transposed matrix\n"
      ]
    },
    {
      "cell_type": "code",
      "execution_count": 24,
      "metadata": {
        "colab": {
          "base_uri": "https://localhost:8080/"
        },
        "id": "oUeEY3YUpNc1",
        "outputId": "24a72720-6f89-4f2e-a2b0-887776b22d65"
      },
      "outputs": [
        {
          "output_type": "execute_result",
          "data": {
            "text/plain": [
              "array([[1, 1],\n",
              "       [2, 2],\n",
              "       [3, 3]])"
            ]
          },
          "metadata": {},
          "execution_count": 24
        }
      ],
      "source": [
        "# Create a matrix C\n",
        "\n",
        "C = np.array([[1,1],[2,2],[3,3]])\n",
        "C"
      ]
    },
    {
      "cell_type": "code",
      "execution_count": 25,
      "metadata": {
        "colab": {
          "base_uri": "https://localhost:8080/"
        },
        "id": "SUdiRrBCpNc2",
        "outputId": "5ce3cde1-1d0e-4c32-f85d-b94bf6db53d1"
      },
      "outputs": [
        {
          "output_type": "execute_result",
          "data": {
            "text/plain": [
              "array([[1, 2, 3],\n",
              "       [1, 2, 3]])"
            ]
          },
          "metadata": {},
          "execution_count": 25
        }
      ],
      "source": [
        "# Get the transposed of C\n",
        "\n",
        "C.T"
      ]
    },
    {
      "cell_type": "markdown",
      "metadata": {
        "id": "LMDTuazrpNc2"
      },
      "source": [
        "<h2>Quiz on 2D Numpy Array</h2>\n"
      ]
    },
    {
      "cell_type": "markdown",
      "metadata": {
        "id": "8VT0-WnDpNc2"
      },
      "source": [
        "Consider the following list <code>a</code>, convert it to Numpy Array.\n"
      ]
    },
    {
      "cell_type": "code",
      "execution_count": 28,
      "metadata": {
        "colab": {
          "base_uri": "https://localhost:8080/"
        },
        "id": "6v92PHfypNc2",
        "outputId": "55795283-5ee1-4a2d-81ac-d9a0b3dd09cf"
      },
      "outputs": [
        {
          "output_type": "execute_result",
          "data": {
            "text/plain": [
              "array([[ 1,  2,  3,  4],\n",
              "       [ 5,  6,  7,  8],\n",
              "       [ 9, 10, 11, 12]])"
            ]
          },
          "metadata": {},
          "execution_count": 28
        }
      ],
      "source": [
        "# Write your code below and press Shift+Enter to execute\n",
        "\n",
        "a = [[1, 2, 3, 4], [5, 6, 7, 8], [9, 10, 11, 12]]\n",
        "A = np.array(a)\n",
        "A"
      ]
    },
    {
      "cell_type": "markdown",
      "metadata": {
        "id": "3I3yBrAZpNc2"
      },
      "source": [
        "<details><summary>Click here for the solution</summary>\n",
        "\n",
        "```python\n",
        "A = np.array(a)\n",
        "A\n",
        "```\n",
        "\n",
        "</details>\n"
      ]
    },
    {
      "cell_type": "markdown",
      "metadata": {
        "id": "LtYiz4E-pNc2"
      },
      "source": [
        "Calculate the numpy array size.\n"
      ]
    },
    {
      "cell_type": "code",
      "execution_count": 29,
      "metadata": {
        "colab": {
          "base_uri": "https://localhost:8080/"
        },
        "id": "l0F6pl2xpNc3",
        "outputId": "f9334413-e7ec-4f1b-e03f-b385fb976577"
      },
      "outputs": [
        {
          "output_type": "execute_result",
          "data": {
            "text/plain": [
              "12"
            ]
          },
          "metadata": {},
          "execution_count": 29
        }
      ],
      "source": [
        "# Write your code below and press Shift+Enter to execute\n",
        "A.size"
      ]
    },
    {
      "cell_type": "markdown",
      "metadata": {
        "id": "HBUsnRu0pNc3"
      },
      "source": [
        "<details><summary>Click here for the solution</summary>\n",
        "\n",
        "```python\n",
        "A.size\n",
        "```\n",
        "\n",
        "</details>\n"
      ]
    },
    {
      "cell_type": "markdown",
      "metadata": {
        "id": "WccuPT5jpNc3"
      },
      "source": [
        "Access the element on the first row and first and second columns.\n"
      ]
    },
    {
      "cell_type": "code",
      "execution_count": 30,
      "metadata": {
        "colab": {
          "base_uri": "https://localhost:8080/"
        },
        "id": "xe2EGmM5pNc3",
        "outputId": "be93d1b2-379d-4633-8a99-978a0d5d7eaa"
      },
      "outputs": [
        {
          "output_type": "execute_result",
          "data": {
            "text/plain": [
              "array([1, 2])"
            ]
          },
          "metadata": {},
          "execution_count": 30
        }
      ],
      "source": [
        "# Write your code below and press Shift+Enter to execute\n",
        "A[0,0:2]"
      ]
    },
    {
      "cell_type": "markdown",
      "metadata": {
        "id": "_ynvmRfapNc3"
      },
      "source": [
        "<details><summary>Click here for the solution</summary>\n",
        "\n",
        "```python\n",
        "A[0][0:2]\n",
        "```\n",
        "\n",
        "</details>\n"
      ]
    },
    {
      "cell_type": "markdown",
      "metadata": {
        "id": "yrj4Li4ApNc3"
      },
      "source": [
        "Perform matrix multiplication with the numpy arrays <code>A</code> and <code>B</code>.\n"
      ]
    },
    {
      "cell_type": "code",
      "execution_count": 32,
      "metadata": {
        "colab": {
          "base_uri": "https://localhost:8080/"
        },
        "id": "_N5IDAGZpNc3",
        "outputId": "2fbcbc6b-a3f0-4837-d689-b5d47729d94d"
      },
      "outputs": [
        {
          "output_type": "execute_result",
          "data": {
            "text/plain": [
              "array([[ 1,  4],\n",
              "       [ 5, 12],\n",
              "       [ 9, 20]])"
            ]
          },
          "metadata": {},
          "execution_count": 32
        }
      ],
      "source": [
        "# Write your code below and press Shift+Enter to execute\n",
        "\n",
        "B = np.array([[0, 1], [1, 0], [1, 1], [-1, 0]])\n",
        "C = np.dot(A, B)\n",
        "C"
      ]
    },
    {
      "cell_type": "markdown",
      "metadata": {
        "id": "tqSQE9nJpNc3"
      },
      "source": [
        "<details><summary>Click here for the solution</summary>\n",
        "\n",
        "```python\n",
        "X = np.dot(A,B)\n",
        "X\n",
        "```\n",
        "\n",
        "</details>\n"
      ]
    },
    {
      "cell_type": "markdown",
      "metadata": {
        "id": "wm4QMCWRpNc4"
      },
      "source": [
        "<hr>\n",
        "<h2>The last exercise!</h2>\n",
        "<p>Congratulations, you have completed your first lesson and hands-on lab in Python. \n",
        "<hr>\n"
      ]
    },
    {
      "cell_type": "markdown",
      "metadata": {
        "id": "qfsEzRs-pNc4"
      },
      "source": [
        "## Author\n",
        "\n",
        "<a href=\"https://www.linkedin.com/in/joseph-s-50398b136/?utm_medium=Exinfluencer&utm_source=Exinfluencer&utm_content=000026UJ&utm_term=10006555&utm_id=NA-SkillsNetwork-Channel-SkillsNetworkCoursesIBMDeveloperSkillsNetworkPY0101ENSkillsNetwork19487395-2022-01-01\" target=\"_blank\">Joseph Santarcangelo</a>\n",
        "\n",
        "## Other contributors\n",
        "\n",
        "<a href=\"https://www.linkedin.com/in/jiahui-mavis-zhou-a4537814a?utm_medium=Exinfluencer&utm_source=Exinfluencer&utm_content=000026UJ&utm_term=10006555&utm_id=NA-SkillsNetwork-Channel-SkillsNetworkCoursesIBMDeveloperSkillsNetworkPY0101ENSkillsNetwork19487395-2022-01-01\">Mavis Zhou</a>\n",
        "\n",
        "## Change Log\n",
        "\n",
        "| Date (YYYY-MM-DD) | Version | Changed By | Change Description                                          |\n",
        "| ----------------- | ------- | ---------- | ----------------------------------------------------------- |\n",
        "| 2022-01-10        | 2.1     | Malika     | Removed the readme for GitShare                             |\n",
        "| 2021-01-05        | 2.2     | Malika     | Updated the solution for dot multiplication                 |\n",
        "| 2020-09-09        | 2.1     | Malika     | Updated the screenshot for first two rows of the 3rd column |\n",
        "| 2020-08-26        | 2.0     | Lavanya    | Moved lab to course repo in GitLab                          |\n",
        "|                   |         |            |                                                             |\n",
        "|                   |         |            |                                                             |\n",
        "\n",
        "<hr/>\n",
        "\n",
        "## <h3 align=\"center\"> © IBM Corporation 2020. All rights reserved. <h3/>\n"
      ]
    }
  ],
  "metadata": {
    "kernelspec": {
      "display_name": "Python 3",
      "language": "python",
      "name": "python3"
    },
    "language_info": {
      "codemirror_mode": {
        "name": "ipython",
        "version": 3
      },
      "file_extension": ".py",
      "mimetype": "text/x-python",
      "name": "python",
      "nbconvert_exporter": "python",
      "pygments_lexer": "ipython3",
      "version": "3.7.6"
    },
    "colab": {
      "provenance": [],
      "collapsed_sections": [
        "qfsEzRs-pNc4"
      ]
    }
  },
  "nbformat": 4,
  "nbformat_minor": 0
}
